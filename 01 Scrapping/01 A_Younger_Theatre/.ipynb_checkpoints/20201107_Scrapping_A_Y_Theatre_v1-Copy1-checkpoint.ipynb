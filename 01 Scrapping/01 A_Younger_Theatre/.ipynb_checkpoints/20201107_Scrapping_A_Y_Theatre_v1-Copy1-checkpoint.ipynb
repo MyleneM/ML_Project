{
 "cells": [
  {
   "cell_type": "markdown",
   "metadata": {},
   "source": [
    "\n",
    "# Title: 20201107_P_S_Theatre_v1.py\n",
    "\n"
   ]
  },
  {
   "cell_type": "markdown",
   "metadata": {},
   "source": [
    "# I) Import Packages"
   ]
  },
  {
   "cell_type": "code",
   "execution_count": 4,
   "metadata": {},
   "outputs": [],
   "source": [
    "import os\n",
    "import requests\n",
    "from bs4 import BeautifulSoup\n",
    "import re\n",
    "import pandas as pd\n",
    "from typing import List, Any\n",
    "from datetime import datetime\n",
    "from urllib.request import Request, urlopen"
   ]
  },
  {
   "cell_type": "markdown",
   "metadata": {},
   "source": [
    "# II) Function definition"
   ]
  },
  {
   "cell_type": "code",
   "execution_count": 128,
   "metadata": {},
   "outputs": [],
   "source": [
    "def get_title_stageplay(s):\n",
    "    t = s.find('meta',{'property':\"og:title\"})\n",
    "    if t==None: \n",
    "        return None\n",
    "    else: \n",
    "        t = t.get('content')\n",
    "        res = t.split(sep=' at ')[0]\n",
    "        res = res.replace('REVIEW: ','')\n",
    "        res = res.split(\": \")[1].split(\",\")[0]\n",
    "        return res\n",
    "\n",
    "def get_theatre_stageplay(s):\n",
    "    t = s.find('meta',{'property':\"og:title\"})\n",
    "    if t==None: \n",
    "        return None\n",
    "    else: \n",
    "        res = str(t).split(', ')[1].split(\" -\")[0]\n",
    "        return res\n",
    "\n",
    "#def get_author_review(s):\n",
    "#    list_span = []\n",
    "#    if s.find_all('span',style=\"font-family: verdana;\") == []:\n",
    "#        return None\n",
    "#    else: \n",
    "#        for span in s.find_all('span',style=\"font-family: verdana;\"):\n",
    "#            if span.text == None:\n",
    "#                list_span.append('')\n",
    "#            else:\n",
    "#                list_span.append(span.text)\n",
    "#        review_by = str([i for i in list_span if 'Review by ' in i][0])\n",
    "#        res = review_by.split('Review by ')[1]\n",
    "#        return res\n",
    "\n",
    "def get_author_review(s):\n",
    "    if len(str(s).split(\"</noscript>\")) > 1:\n",
    "        split = str(s).split(\"</noscript>\")[1].split(\"</a>\")[0]\n",
    "        res = split\n",
    "        return res\n",
    "    else:\n",
    "        return None\n",
    "\n",
    "def get_date_review(s):\n",
    "    x = s.find('span',{'class':\"cb-date\"})\n",
    "    date_string = x.text\n",
    "    d = datetime.strptime(date_string, '%B %d, %Y')\n",
    "    date_0 = d.strftime('%d/%m/%Y')\n",
    "    if date_0==None: \n",
    "        return None\n",
    "    else: \n",
    "        return date_0\n",
    "\n",
    "def get_rating_review(s):\n",
    "    list_span_review = []\n",
    "    if s.find_all('span',style=\"font-family: verdana;\") == []:\n",
    "        return None\n",
    "    else:\n",
    "        for span in s.find_all('span',style=\"font-family: verdana;\"):\n",
    "            if span.text == None:\n",
    "                list_span_review.append('')\n",
    "            else:\n",
    "                list_span_review.append(span.text)\n",
    "        rating = str([i for i in list_span_review if 'Rating:' in i][0])\n",
    "        res = rating.split('Rating:')[1]\n",
    "        res = re.findall(r\"★\",res)\n",
    "        res = \"\".join(res)\n",
    "        return res\n",
    "\n",
    "def get_review(s): \n",
    "    text = \"\"\n",
    "    for i in s.findAll(\"p\"):\n",
    "        text = text + i.text\n",
    "    text = text.replace('\\xa0',\"\")\n",
    "    return text\n"
   ]
  },
  {
   "cell_type": "markdown",
   "metadata": {},
   "source": [
    "# III) Scrapping"
   ]
  },
  {
   "cell_type": "code",
   "execution_count": 129,
   "metadata": {},
   "outputs": [
    {
     "name": "stdout",
     "output_type": "stream",
     "text": [
      "We are scrapping 20 reviews\n"
     ]
    }
   ],
   "source": [
    "url = \"https://www.ayoungertheatre.com\"\n",
    "section = \"/category/reviews/westend/\"\n",
    "#req = requests.get(url+section)\n",
    "#soup = BeautifulSoup(req.content, 'html.parser')\n",
    "\n",
    "req = Request(url+section, headers={'User-Agent': 'Mozilla/5.0'})\n",
    "webpage = urlopen(req).read()\n",
    "webpage = webpage.decode('utf-8')\n",
    "soup = BeautifulSoup(webpage, 'html.parser')\n",
    "a_content = soup.findAll(\"a\",href=True)\n",
    "a_list= list(a_content)\n",
    "list_link_reviews = []\n",
    "list_ratings =[]\n",
    "for i in range(0,len(a_list)):\n",
    "    if \"review-\" in a_list[i]['href']:\n",
    "        list_link_reviews.append(a_list[i]['href'])\n",
    "list_link_reviews = [item for item in list_link_reviews if '#' not in item]\n",
    "print(f'We are scrapping {len(list_link_reviews)} reviews')"
   ]
  },
  {
   "cell_type": "code",
   "execution_count": 130,
   "metadata": {},
   "outputs": [],
   "source": [
    "list_link_reviews = list(set(list_link_reviews))"
   ]
  },
  {
   "cell_type": "markdown",
   "metadata": {},
   "source": [
    "# IV) Dataset Creation"
   ]
  },
  {
   "cell_type": "code",
   "execution_count": 131,
   "metadata": {},
   "outputs": [],
   "source": [
    "# Initialization of lists:\n",
    "title = []\n",
    "reviewer = []\n",
    "review = []\n",
    "date = []\n",
    "theatre = []\n",
    "rating = []\n",
    "newspaper = []"
   ]
  },
  {
   "cell_type": "code",
   "execution_count": 132,
   "metadata": {},
   "outputs": [
    {
     "name": "stdout",
     "output_type": "stream",
     "text": [
      "https://www.ayoungertheatre.com/review-the-odyssey-jermyn-street-theatre/\n",
      "https://www.ayoungertheatre.com/review-jane-eyre-blackeyed-theatre/\n",
      "https://www.ayoungertheatre.com/review-prince-of-egypt-the-dominion-theatre/\n",
      "https://www.ayoungertheatre.com/review-the-seven-streams-of-the-river-ota/\n"
     ]
    },
    {
     "ename": "KeyboardInterrupt",
     "evalue": "",
     "output_type": "error",
     "traceback": [
      "\u001b[0;31m---------------------------------------------------------------------------\u001b[0m",
      "\u001b[0;31mKeyboardInterrupt\u001b[0m                         Traceback (most recent call last)",
      "\u001b[0;32m<ipython-input-132-507f54b631a9>\u001b[0m in \u001b[0;36m<module>\u001b[0;34m\u001b[0m\n\u001b[1;32m      4\u001b[0m     \u001b[0mprint\u001b[0m\u001b[0;34m(\u001b[0m\u001b[0mlist_link_reviews\u001b[0m\u001b[0;34m[\u001b[0m\u001b[0mk\u001b[0m\u001b[0;34m]\u001b[0m\u001b[0;34m)\u001b[0m\u001b[0;34m\u001b[0m\u001b[0;34m\u001b[0m\u001b[0m\n\u001b[1;32m      5\u001b[0m     \u001b[0mreq\u001b[0m \u001b[0;34m=\u001b[0m \u001b[0mRequest\u001b[0m\u001b[0;34m(\u001b[0m\u001b[0mlist_link_reviews\u001b[0m\u001b[0;34m[\u001b[0m\u001b[0mk\u001b[0m\u001b[0;34m]\u001b[0m\u001b[0;34m,\u001b[0m \u001b[0mheaders\u001b[0m\u001b[0;34m=\u001b[0m\u001b[0;34m{\u001b[0m\u001b[0;34m'User-Agent'\u001b[0m\u001b[0;34m:\u001b[0m \u001b[0;34m'Mozilla/5.0'\u001b[0m\u001b[0;34m}\u001b[0m\u001b[0;34m)\u001b[0m\u001b[0;34m\u001b[0m\u001b[0;34m\u001b[0m\u001b[0m\n\u001b[0;32m----> 6\u001b[0;31m     \u001b[0mwebpage\u001b[0m \u001b[0;34m=\u001b[0m \u001b[0murlopen\u001b[0m\u001b[0;34m(\u001b[0m\u001b[0mreq\u001b[0m\u001b[0;34m)\u001b[0m\u001b[0;34m.\u001b[0m\u001b[0mread\u001b[0m\u001b[0;34m(\u001b[0m\u001b[0;34m)\u001b[0m\u001b[0;34m\u001b[0m\u001b[0;34m\u001b[0m\u001b[0m\n\u001b[0m\u001b[1;32m      7\u001b[0m     \u001b[0mwebpage\u001b[0m \u001b[0;34m=\u001b[0m \u001b[0mwebpage\u001b[0m\u001b[0;34m.\u001b[0m\u001b[0mdecode\u001b[0m\u001b[0;34m(\u001b[0m\u001b[0;34m'utf-8'\u001b[0m\u001b[0;34m)\u001b[0m\u001b[0;34m\u001b[0m\u001b[0;34m\u001b[0m\u001b[0m\n\u001b[1;32m      8\u001b[0m     \u001b[0ms\u001b[0m \u001b[0;34m=\u001b[0m \u001b[0mBeautifulSoup\u001b[0m\u001b[0;34m(\u001b[0m\u001b[0mwebpage\u001b[0m\u001b[0;34m,\u001b[0m \u001b[0;34m'html.parser'\u001b[0m\u001b[0;34m)\u001b[0m\u001b[0;34m\u001b[0m\u001b[0;34m\u001b[0m\u001b[0m\n",
      "\u001b[0;32m~/opt/anaconda3/lib/python3.7/http/client.py\u001b[0m in \u001b[0;36mread\u001b[0;34m(self, amt)\u001b[0m\n\u001b[1;32m    462\u001b[0m \u001b[0;34m\u001b[0m\u001b[0m\n\u001b[1;32m    463\u001b[0m             \u001b[0;32mif\u001b[0m \u001b[0mself\u001b[0m\u001b[0;34m.\u001b[0m\u001b[0mchunked\u001b[0m\u001b[0;34m:\u001b[0m\u001b[0;34m\u001b[0m\u001b[0;34m\u001b[0m\u001b[0m\n\u001b[0;32m--> 464\u001b[0;31m                 \u001b[0;32mreturn\u001b[0m \u001b[0mself\u001b[0m\u001b[0;34m.\u001b[0m\u001b[0m_readall_chunked\u001b[0m\u001b[0;34m(\u001b[0m\u001b[0;34m)\u001b[0m\u001b[0;34m\u001b[0m\u001b[0;34m\u001b[0m\u001b[0m\n\u001b[0m\u001b[1;32m    465\u001b[0m \u001b[0;34m\u001b[0m\u001b[0m\n\u001b[1;32m    466\u001b[0m             \u001b[0;32mif\u001b[0m \u001b[0mself\u001b[0m\u001b[0;34m.\u001b[0m\u001b[0mlength\u001b[0m \u001b[0;32mis\u001b[0m \u001b[0;32mNone\u001b[0m\u001b[0;34m:\u001b[0m\u001b[0;34m\u001b[0m\u001b[0;34m\u001b[0m\u001b[0m\n",
      "\u001b[0;32m~/opt/anaconda3/lib/python3.7/http/client.py\u001b[0m in \u001b[0;36m_readall_chunked\u001b[0;34m(self)\u001b[0m\n\u001b[1;32m    572\u001b[0m                 \u001b[0;32mif\u001b[0m \u001b[0mchunk_left\u001b[0m \u001b[0;32mis\u001b[0m \u001b[0;32mNone\u001b[0m\u001b[0;34m:\u001b[0m\u001b[0;34m\u001b[0m\u001b[0;34m\u001b[0m\u001b[0m\n\u001b[1;32m    573\u001b[0m                     \u001b[0;32mbreak\u001b[0m\u001b[0;34m\u001b[0m\u001b[0;34m\u001b[0m\u001b[0m\n\u001b[0;32m--> 574\u001b[0;31m                 \u001b[0mvalue\u001b[0m\u001b[0;34m.\u001b[0m\u001b[0mappend\u001b[0m\u001b[0;34m(\u001b[0m\u001b[0mself\u001b[0m\u001b[0;34m.\u001b[0m\u001b[0m_safe_read\u001b[0m\u001b[0;34m(\u001b[0m\u001b[0mchunk_left\u001b[0m\u001b[0;34m)\u001b[0m\u001b[0;34m)\u001b[0m\u001b[0;34m\u001b[0m\u001b[0;34m\u001b[0m\u001b[0m\n\u001b[0m\u001b[1;32m    575\u001b[0m                 \u001b[0mself\u001b[0m\u001b[0;34m.\u001b[0m\u001b[0mchunk_left\u001b[0m \u001b[0;34m=\u001b[0m \u001b[0;36m0\u001b[0m\u001b[0;34m\u001b[0m\u001b[0;34m\u001b[0m\u001b[0m\n\u001b[1;32m    576\u001b[0m             \u001b[0;32mreturn\u001b[0m \u001b[0;34mb''\u001b[0m\u001b[0;34m.\u001b[0m\u001b[0mjoin\u001b[0m\u001b[0;34m(\u001b[0m\u001b[0mvalue\u001b[0m\u001b[0;34m)\u001b[0m\u001b[0;34m\u001b[0m\u001b[0;34m\u001b[0m\u001b[0m\n",
      "\u001b[0;32m~/opt/anaconda3/lib/python3.7/http/client.py\u001b[0m in \u001b[0;36m_safe_read\u001b[0;34m(self, amt)\u001b[0m\n\u001b[1;32m    618\u001b[0m         \u001b[0ms\u001b[0m \u001b[0;34m=\u001b[0m \u001b[0;34m[\u001b[0m\u001b[0;34m]\u001b[0m\u001b[0;34m\u001b[0m\u001b[0;34m\u001b[0m\u001b[0m\n\u001b[1;32m    619\u001b[0m         \u001b[0;32mwhile\u001b[0m \u001b[0mamt\u001b[0m \u001b[0;34m>\u001b[0m \u001b[0;36m0\u001b[0m\u001b[0;34m:\u001b[0m\u001b[0;34m\u001b[0m\u001b[0;34m\u001b[0m\u001b[0m\n\u001b[0;32m--> 620\u001b[0;31m             \u001b[0mchunk\u001b[0m \u001b[0;34m=\u001b[0m \u001b[0mself\u001b[0m\u001b[0;34m.\u001b[0m\u001b[0mfp\u001b[0m\u001b[0;34m.\u001b[0m\u001b[0mread\u001b[0m\u001b[0;34m(\u001b[0m\u001b[0mmin\u001b[0m\u001b[0;34m(\u001b[0m\u001b[0mamt\u001b[0m\u001b[0;34m,\u001b[0m \u001b[0mMAXAMOUNT\u001b[0m\u001b[0;34m)\u001b[0m\u001b[0;34m)\u001b[0m\u001b[0;34m\u001b[0m\u001b[0;34m\u001b[0m\u001b[0m\n\u001b[0m\u001b[1;32m    621\u001b[0m             \u001b[0;32mif\u001b[0m \u001b[0;32mnot\u001b[0m \u001b[0mchunk\u001b[0m\u001b[0;34m:\u001b[0m\u001b[0;34m\u001b[0m\u001b[0;34m\u001b[0m\u001b[0m\n\u001b[1;32m    622\u001b[0m                 \u001b[0;32mraise\u001b[0m \u001b[0mIncompleteRead\u001b[0m\u001b[0;34m(\u001b[0m\u001b[0;34mb''\u001b[0m\u001b[0;34m.\u001b[0m\u001b[0mjoin\u001b[0m\u001b[0;34m(\u001b[0m\u001b[0ms\u001b[0m\u001b[0;34m)\u001b[0m\u001b[0;34m,\u001b[0m \u001b[0mamt\u001b[0m\u001b[0;34m)\u001b[0m\u001b[0;34m\u001b[0m\u001b[0;34m\u001b[0m\u001b[0m\n",
      "\u001b[0;32m~/opt/anaconda3/lib/python3.7/socket.py\u001b[0m in \u001b[0;36mreadinto\u001b[0;34m(self, b)\u001b[0m\n\u001b[1;32m    587\u001b[0m         \u001b[0;32mwhile\u001b[0m \u001b[0;32mTrue\u001b[0m\u001b[0;34m:\u001b[0m\u001b[0;34m\u001b[0m\u001b[0;34m\u001b[0m\u001b[0m\n\u001b[1;32m    588\u001b[0m             \u001b[0;32mtry\u001b[0m\u001b[0;34m:\u001b[0m\u001b[0;34m\u001b[0m\u001b[0;34m\u001b[0m\u001b[0m\n\u001b[0;32m--> 589\u001b[0;31m                 \u001b[0;32mreturn\u001b[0m \u001b[0mself\u001b[0m\u001b[0;34m.\u001b[0m\u001b[0m_sock\u001b[0m\u001b[0;34m.\u001b[0m\u001b[0mrecv_into\u001b[0m\u001b[0;34m(\u001b[0m\u001b[0mb\u001b[0m\u001b[0;34m)\u001b[0m\u001b[0;34m\u001b[0m\u001b[0;34m\u001b[0m\u001b[0m\n\u001b[0m\u001b[1;32m    590\u001b[0m             \u001b[0;32mexcept\u001b[0m \u001b[0mtimeout\u001b[0m\u001b[0;34m:\u001b[0m\u001b[0;34m\u001b[0m\u001b[0;34m\u001b[0m\u001b[0m\n\u001b[1;32m    591\u001b[0m                 \u001b[0mself\u001b[0m\u001b[0;34m.\u001b[0m\u001b[0m_timeout_occurred\u001b[0m \u001b[0;34m=\u001b[0m \u001b[0;32mTrue\u001b[0m\u001b[0;34m\u001b[0m\u001b[0;34m\u001b[0m\u001b[0m\n",
      "\u001b[0;32m~/opt/anaconda3/lib/python3.7/ssl.py\u001b[0m in \u001b[0;36mrecv_into\u001b[0;34m(self, buffer, nbytes, flags)\u001b[0m\n\u001b[1;32m   1069\u001b[0m                   \u001b[0;34m\"non-zero flags not allowed in calls to recv_into() on %s\"\u001b[0m \u001b[0;34m%\u001b[0m\u001b[0;34m\u001b[0m\u001b[0;34m\u001b[0m\u001b[0m\n\u001b[1;32m   1070\u001b[0m                   self.__class__)\n\u001b[0;32m-> 1071\u001b[0;31m             \u001b[0;32mreturn\u001b[0m \u001b[0mself\u001b[0m\u001b[0;34m.\u001b[0m\u001b[0mread\u001b[0m\u001b[0;34m(\u001b[0m\u001b[0mnbytes\u001b[0m\u001b[0;34m,\u001b[0m \u001b[0mbuffer\u001b[0m\u001b[0;34m)\u001b[0m\u001b[0;34m\u001b[0m\u001b[0;34m\u001b[0m\u001b[0m\n\u001b[0m\u001b[1;32m   1072\u001b[0m         \u001b[0;32melse\u001b[0m\u001b[0;34m:\u001b[0m\u001b[0;34m\u001b[0m\u001b[0;34m\u001b[0m\u001b[0m\n\u001b[1;32m   1073\u001b[0m             \u001b[0;32mreturn\u001b[0m \u001b[0msuper\u001b[0m\u001b[0;34m(\u001b[0m\u001b[0;34m)\u001b[0m\u001b[0;34m.\u001b[0m\u001b[0mrecv_into\u001b[0m\u001b[0;34m(\u001b[0m\u001b[0mbuffer\u001b[0m\u001b[0;34m,\u001b[0m \u001b[0mnbytes\u001b[0m\u001b[0;34m,\u001b[0m \u001b[0mflags\u001b[0m\u001b[0;34m)\u001b[0m\u001b[0;34m\u001b[0m\u001b[0;34m\u001b[0m\u001b[0m\n",
      "\u001b[0;32m~/opt/anaconda3/lib/python3.7/ssl.py\u001b[0m in \u001b[0;36mread\u001b[0;34m(self, len, buffer)\u001b[0m\n\u001b[1;32m    927\u001b[0m         \u001b[0;32mtry\u001b[0m\u001b[0;34m:\u001b[0m\u001b[0;34m\u001b[0m\u001b[0;34m\u001b[0m\u001b[0m\n\u001b[1;32m    928\u001b[0m             \u001b[0;32mif\u001b[0m \u001b[0mbuffer\u001b[0m \u001b[0;32mis\u001b[0m \u001b[0;32mnot\u001b[0m \u001b[0;32mNone\u001b[0m\u001b[0;34m:\u001b[0m\u001b[0;34m\u001b[0m\u001b[0;34m\u001b[0m\u001b[0m\n\u001b[0;32m--> 929\u001b[0;31m                 \u001b[0;32mreturn\u001b[0m \u001b[0mself\u001b[0m\u001b[0;34m.\u001b[0m\u001b[0m_sslobj\u001b[0m\u001b[0;34m.\u001b[0m\u001b[0mread\u001b[0m\u001b[0;34m(\u001b[0m\u001b[0mlen\u001b[0m\u001b[0;34m,\u001b[0m \u001b[0mbuffer\u001b[0m\u001b[0;34m)\u001b[0m\u001b[0;34m\u001b[0m\u001b[0;34m\u001b[0m\u001b[0m\n\u001b[0m\u001b[1;32m    930\u001b[0m             \u001b[0;32melse\u001b[0m\u001b[0;34m:\u001b[0m\u001b[0;34m\u001b[0m\u001b[0;34m\u001b[0m\u001b[0m\n\u001b[1;32m    931\u001b[0m                 \u001b[0;32mreturn\u001b[0m \u001b[0mself\u001b[0m\u001b[0;34m.\u001b[0m\u001b[0m_sslobj\u001b[0m\u001b[0;34m.\u001b[0m\u001b[0mread\u001b[0m\u001b[0;34m(\u001b[0m\u001b[0mlen\u001b[0m\u001b[0;34m)\u001b[0m\u001b[0;34m\u001b[0m\u001b[0;34m\u001b[0m\u001b[0m\n",
      "\u001b[0;31mKeyboardInterrupt\u001b[0m: "
     ]
    }
   ],
   "source": [
    "#Store in lists title, date , reviewer , theatre and review of comedy\n",
    "for k in range(0,len(list_link_reviews)): \n",
    "#for k in range(0,20): \n",
    "    print(list_link_reviews[k])\n",
    "    req = Request(list_link_reviews[k], headers={'User-Agent': 'Mozilla/5.0'})\n",
    "    webpage = urlopen(req).read()\n",
    "    webpage = webpage.decode('utf-8')\n",
    "    s = BeautifulSoup(webpage, 'html.parser')\n",
    "    title.append(get_title_stageplay(s))\n",
    "    date.append(get_date_review(s))\n",
    "    reviewer.append(get_author_review(s))\n",
    "    theatre.append(get_theatre_stageplay(s))\n",
    "    review.append(get_review(s))\n",
    "newspaper = ['A Younger Theatre'] * (k+1)\n",
    "#rating = list_ratings[:k+1]"
   ]
  },
  {
   "cell_type": "code",
   "execution_count": 168,
   "metadata": {},
   "outputs": [
    {
     "data": {
      "text/plain": [
       "'The Prince of Egypt has become a much beloved classic, and this adaptation is years in the making. After finding critical acclaim onscreen and nabbing itself an Oscar at the original film’s release in 1998, the biblical tale finally lands on the West End. Composer Stephen Schwartz, of the Wicked fame, has introduced 10 new songs to this musical array, adding more fuel to this already beast of a fire (there is also literal fire at one point in the production). While an incredibly talented and diverse cast take the stage, they do the best with the tools they have been given.The staging is visually spectacular, projections covering the walls of the Dominion transport the audience to a quasi-modern ancient Egypt. The stage itself is left open, with a moving block provided to lift Moses into the heavens; there is plenty space to dance and with choreographer Sean Cheesman’s ambitious routines they do just that. There is even ample opportunity to rid those pesky Egyptian’s into the hells below.Physical theatre is heavily relied upon; dancers are waves, chariots, sand dunes and mighty marble columns. The insisted reliance on movement to create ambience, while beautifully choreographed, becomes part of why this adaptation feels so underwhelming. With such an awe-inspiring set you’d think they could afford more ambitious props than people. While a majestic use of dance, for such an ambitious musical I was left wanting more at an attempt to create environment.Luke Brady’s kindly Moses finds himself a sweet and noble messenger for God while Liam Tamne’s Ramses is given a rather shocking, and in my opinion ill-advised, redemption arc. From screen to stage we see a whole array of characters fleshed out, comedic effect is applied throughout the cast and The Prince of Egypt attempts to find the funny in the Pharaoh. While Ramses is now a slightly pathetic but still disappointing first son, Pharaoh is no longer a larger than life, soon-to-be God, but a stern father disappointed in his lineage.While the stand-out songs still stand out, ‘Through Heaven’s Eyes’ is received by extended and deserved applause (what they do well they do magnificently), the new numbers are lost in the noise. Brady finds himself in the second half: he is not to be underestimated as a strong soloist. Classic songs remain classics and new numbers scratch a deep, but uncovered surface. Nevertheless, the multiple medleys of old and new numbers are carried with strength by both the chorus and the main actors.While newcomers will know no different, I fear fans of the film will be left wanting to return to the animation. While I wish to be able to appreciate the adaptation for what it is- a twist on a classic- much is lacking when compared to its superior form. In this adaption, biblical morals become a biblical bromance as Ramses and Moses seek to find religious resolution.The Prince of Egypt is playing at The Dominion Theatre until the 12th September 2020. For more information and tickets, see The Prince of Egypt website. Adam PearceAlexia KhadimeAnn Hould-WardChristine AlladoDebbie KurupDreamworksGary WilmotHannah SelkJoe DixonKevin DepinetLiam TamneLuke BradyMercedesz CsampiPhilip LaZebnikScott SchwartzSean CheesmanSilas Wyatt-BarkeStephen SchwartzTanisha SpringSuzannah is originally from Norwich and now lives in North London. She studied English and Philosophy at Royal Holloway where she was an editor on the university newspaper. She now works at a literary agency where her love of books has become a career, but still loves going to the theatre, be it to see a light-hearted musical or a tragic drama.'"
      ]
     },
     "execution_count": 168,
     "metadata": {},
     "output_type": "execute_result"
    }
   ],
   "source": [
    "get_review(s)"
   ]
  },
  {
   "cell_type": "code",
   "execution_count": 167,
   "metadata": {},
   "outputs": [],
   "source": []
  },
  {
   "cell_type": "code",
   "execution_count": null,
   "metadata": {},
   "outputs": [],
   "source": [
    "x = s.find('div',{'itemprop':'description articleBody'})\n",
    "if x==None: \n",
    "   None\n",
    "else: \n",
    "    res = x.text\n",
    "    res = res.replace('\\n','')\n",
    "        res = res.replace('\\xa0','')\n",
    "        res = res.split(\"Review by \")[0]\n",
    "        return res"
   ]
  },
  {
   "cell_type": "code",
   "execution_count": 150,
   "metadata": {},
   "outputs": [
    {
     "ename": "TypeError",
     "evalue": "'NoneType' object is not callable",
     "output_type": "error",
     "traceback": [
      "\u001b[0;31m---------------------------------------------------------------------------\u001b[0m",
      "\u001b[0;31mTypeError\u001b[0m                                 Traceback (most recent call last)",
      "\u001b[0;32m<ipython-input-150-1e190b5385ee>\u001b[0m in \u001b[0;36m<module>\u001b[0;34m\u001b[0m\n\u001b[0;32m----> 1\u001b[0;31m \u001b[0ms\u001b[0m\u001b[0;34m.\u001b[0m\u001b[0mfindall\u001b[0m\u001b[0;34m(\u001b[0m\u001b[0;34m\"p\"\u001b[0m\u001b[0;34m)\u001b[0m\u001b[0;34m.\u001b[0m\u001b[0mtext\u001b[0m\u001b[0;34m\u001b[0m\u001b[0;34m\u001b[0m\u001b[0m\n\u001b[0m",
      "\u001b[0;31mTypeError\u001b[0m: 'NoneType' object is not callable"
     ]
    }
   ],
   "source": [
    "s.findall(\"p\").text"
   ]
  },
  {
   "cell_type": "code",
   "execution_count": 159,
   "metadata": {},
   "outputs": [],
   "source": [
    "text = \"\"\n",
    "for i in s.findAll(\"p\"):\n",
    "    text = text + i.text\n",
    "text = text.replace('\\xa0',\"\")"
   ]
  },
  {
   "cell_type": "code",
   "execution_count": 161,
   "metadata": {},
   "outputs": [
    {
     "data": {
      "text/plain": [
       "'The Prince of Egypt has become a much beloved classic, and this adaptation is years in the making. After finding critical acclaim onscreen and nabbing itself an Oscar at the original film’s release in 1998, the biblical tale finally lands on the West End. Composer Stephen Schwartz, of the Wicked fame, has introduced 10 new songs to this musical array, adding more fuel to this already beast of a fire (there is also literal fire at one point in the production). While an incredibly talented and diverse cast take the stage, they do the best with the tools they have been given.The staging is visually spectacular, projections covering the walls of the Dominion transport the audience to a quasi-modern ancient Egypt. The stage itself is left open, with a moving block provided to lift Moses into the heavens; there is plenty space to dance and with choreographer Sean Cheesman’s ambitious routines they do just that. There is even ample opportunity to rid those pesky Egyptian’s into the hells below.Physical theatre is heavily relied upon; dancers are waves, chariots, sand dunes and mighty marble columns. The insisted reliance on movement to create ambience, while beautifully choreographed, becomes part of why this adaptation feels so underwhelming. With such an awe-inspiring set you’d think they could afford more ambitious props than people. While a majestic use of dance, for such an ambitious musical I was left wanting more at an attempt to create environment.Luke Brady’s kindly Moses finds himself a sweet and noble messenger for God while Liam Tamne’s Ramses is given a rather shocking, and in my opinion ill-advised, redemption arc. From screen to stage we see a whole array of characters fleshed out, comedic effect is applied throughout the cast and The Prince of Egypt attempts to find the funny in the Pharaoh. While Ramses is now a slightly pathetic but still disappointing first son, Pharaoh is no longer a larger than life, soon-to-be God, but a stern father disappointed in his lineage.While the stand-out songs still stand out, ‘Through Heaven’s Eyes’ is received by extended and deserved applause (what they do well they do magnificently), the new numbers are lost in the noise. Brady finds himself in the second half: he is not to be underestimated as a strong soloist. Classic songs remain classics and new numbers scratch a deep, but uncovered surface. Nevertheless, the multiple medleys of old and new numbers are carried with strength by both the chorus and the main actors.While newcomers will know no different, I fear fans of the film will be left wanting to return to the animation. While I wish to be able to appreciate the adaptation for what it is- a twist on a classic- much is lacking when compared to its superior form. In this adaption, biblical morals become a biblical bromance as Ramses and Moses seek to find religious resolution.The Prince of Egypt is playing at The Dominion Theatre until the 12th September 2020. For more information and tickets, see The Prince of Egypt website. Adam PearceAlexia KhadimeAnn Hould-WardChristine AlladoDebbie KurupDreamworksGary WilmotHannah SelkJoe DixonKevin DepinetLiam TamneLuke BradyMercedesz CsampiPhilip LaZebnikScott SchwartzSean CheesmanSilas Wyatt-BarkeStephen SchwartzTanisha SpringSuzannah is originally from Norwich and now lives in North London. She studied English and Philosophy at Royal Holloway where she was an editor on the university newspaper. She now works at a literary agency where her love of books has become a career, but still loves going to the theatre, be it to see a light-hearted musical or a tragic drama.'"
      ]
     },
     "execution_count": 161,
     "metadata": {},
     "output_type": "execute_result"
    }
   ],
   "source": []
  },
  {
   "cell_type": "code",
   "execution_count": 98,
   "metadata": {},
   "outputs": [
    {
     "data": {
      "text/plain": [
       "0"
      ]
     },
     "metadata": {},
     "output_type": "display_data"
    },
    {
     "data": {
      "text/plain": [
       "9"
      ]
     },
     "metadata": {},
     "output_type": "display_data"
    },
    {
     "data": {
      "text/plain": [
       "9"
      ]
     },
     "metadata": {},
     "output_type": "display_data"
    },
    {
     "data": {
      "text/plain": [
       "9"
      ]
     },
     "metadata": {},
     "output_type": "display_data"
    },
    {
     "data": {
      "text/plain": [
       "9"
      ]
     },
     "metadata": {},
     "output_type": "display_data"
    },
    {
     "data": {
      "text/plain": [
       "9"
      ]
     },
     "metadata": {},
     "output_type": "display_data"
    }
   ],
   "source": [
    "# Check length of arrays \n",
    "display(len(rating))\n",
    "display(len(date))\n",
    "display(len(reviewer))\n",
    "display(len(title))\n",
    "display(len(theatre))\n",
    "display(len(review))"
   ]
  },
  {
   "cell_type": "code",
   "execution_count": 99,
   "metadata": {},
   "outputs": [],
   "source": [
    "# Dataset creation \n",
    "df_theatre = pd.DataFrame({'Newspaper':newspaper,\n",
    "                      'Date':date,\n",
    "                      'Reviewer':reviewer,\n",
    "                      'Title':title,\n",
    "                      'Theatre':theatre,\n",
    "                      #'Rating':rating,\n",
    "                      'Review':review\n",
    "                      })"
   ]
  },
  {
   "cell_type": "code",
   "execution_count": 100,
   "metadata": {},
   "outputs": [
    {
     "data": {
      "text/html": [
       "<div>\n",
       "<style scoped>\n",
       "    .dataframe tbody tr th:only-of-type {\n",
       "        vertical-align: middle;\n",
       "    }\n",
       "\n",
       "    .dataframe tbody tr th {\n",
       "        vertical-align: top;\n",
       "    }\n",
       "\n",
       "    .dataframe thead th {\n",
       "        text-align: right;\n",
       "    }\n",
       "</style>\n",
       "<table border=\"1\" class=\"dataframe\">\n",
       "  <thead>\n",
       "    <tr style=\"text-align: right;\">\n",
       "      <th></th>\n",
       "      <th>Newspaper</th>\n",
       "      <th>Date</th>\n",
       "      <th>Reviewer</th>\n",
       "      <th>Title</th>\n",
       "      <th>Theatre</th>\n",
       "      <th>Review</th>\n",
       "    </tr>\n",
       "  </thead>\n",
       "  <tbody>\n",
       "    <tr>\n",
       "      <th>0</th>\n",
       "      <td>Pocket Size Theatre</td>\n",
       "      <td>12/10/2020</td>\n",
       "      <td>None</td>\n",
       "      <td>The Odyssey</td>\n",
       "      <td>None</td>\n",
       "      <td>None</td>\n",
       "    </tr>\n",
       "    <tr>\n",
       "      <th>1</th>\n",
       "      <td>Pocket Size Theatre</td>\n",
       "      <td>06/11/2020</td>\n",
       "      <td>None</td>\n",
       "      <td>Jane Eyre</td>\n",
       "      <td>None</td>\n",
       "      <td>None</td>\n",
       "    </tr>\n",
       "    <tr>\n",
       "      <th>2</th>\n",
       "      <td>Pocket Size Theatre</td>\n",
       "      <td>28/02/2020</td>\n",
       "      <td>None</td>\n",
       "      <td>The Prince of Egypt</td>\n",
       "      <td>None</td>\n",
       "      <td>None</td>\n",
       "    </tr>\n",
       "  </tbody>\n",
       "</table>\n",
       "</div>"
      ],
      "text/plain": [
       "             Newspaper        Date Reviewer                Title Theatre  \\\n",
       "0  Pocket Size Theatre  12/10/2020     None          The Odyssey    None   \n",
       "1  Pocket Size Theatre  06/11/2020     None            Jane Eyre    None   \n",
       "2  Pocket Size Theatre  28/02/2020     None  The Prince of Egypt    None   \n",
       "\n",
       "  Review  \n",
       "0   None  \n",
       "1   None  \n",
       "2   None  "
      ]
     },
     "execution_count": 100,
     "metadata": {},
     "output_type": "execute_result"
    }
   ],
   "source": [
    "df_theatre.head(3)"
   ]
  },
  {
   "cell_type": "code",
   "execution_count": 195,
   "metadata": {},
   "outputs": [
    {
     "data": {
      "text/html": [
       "<div>\n",
       "<style scoped>\n",
       "    .dataframe tbody tr th:only-of-type {\n",
       "        vertical-align: middle;\n",
       "    }\n",
       "\n",
       "    .dataframe tbody tr th {\n",
       "        vertical-align: top;\n",
       "    }\n",
       "\n",
       "    .dataframe thead th {\n",
       "        text-align: right;\n",
       "    }\n",
       "</style>\n",
       "<table border=\"1\" class=\"dataframe\">\n",
       "  <thead>\n",
       "    <tr style=\"text-align: right;\">\n",
       "      <th></th>\n",
       "      <th>Newspaper</th>\n",
       "      <th>Date</th>\n",
       "      <th>Reviewer</th>\n",
       "      <th>Title</th>\n",
       "      <th>Theatre</th>\n",
       "      <th>Rating</th>\n",
       "      <th>Review</th>\n",
       "    </tr>\n",
       "  </thead>\n",
       "  <tbody>\n",
       "    <tr>\n",
       "      <th>0</th>\n",
       "      <td>Pocket Size Theatre</td>\n",
       "      <td>26/10/2020</td>\n",
       "      <td>Nick Wayne</td>\n",
       "      <td>Lone Flyer</td>\n",
       "      <td>the Watermill, Newbury</td>\n",
       "      <td>★★★★</td>\n",
       "      <td>The Watermill continues its indoor reopening s...</td>\n",
       "    </tr>\n",
       "    <tr>\n",
       "      <th>1</th>\n",
       "      <td>Pocket Size Theatre</td>\n",
       "      <td>17/10/2020</td>\n",
       "      <td>Mark Swale</td>\n",
       "      <td>Buyer and Cellar</td>\n",
       "      <td>Above the Stag</td>\n",
       "      <td>★★★★</td>\n",
       "      <td>Originally performed by Michael Urie, Buyer an...</td>\n",
       "    </tr>\n",
       "    <tr>\n",
       "      <th>2</th>\n",
       "      <td>Pocket Size Theatre</td>\n",
       "      <td>26/09/2020</td>\n",
       "      <td>Nick Wayne</td>\n",
       "      <td>Bloodshot</td>\n",
       "      <td>the Watermill Theatre</td>\n",
       "      <td>★★★★★</td>\n",
       "      <td>After a very successful outdoor summer season ...</td>\n",
       "    </tr>\n",
       "  </tbody>\n",
       "</table>\n",
       "</div>"
      ],
      "text/plain": [
       "             Newspaper        Date    Reviewer             Title  \\\n",
       "0  Pocket Size Theatre  26/10/2020  Nick Wayne        Lone Flyer   \n",
       "1  Pocket Size Theatre  17/10/2020  Mark Swale  Buyer and Cellar   \n",
       "2  Pocket Size Theatre  26/09/2020  Nick Wayne         Bloodshot   \n",
       "\n",
       "                  Theatre Rating  \\\n",
       "0  the Watermill, Newbury   ★★★★   \n",
       "1         Above the Stag    ★★★★   \n",
       "2  the Watermill Theatre   ★★★★★   \n",
       "\n",
       "                                              Review  \n",
       "0  The Watermill continues its indoor reopening s...  \n",
       "1  Originally performed by Michael Urie, Buyer an...  \n",
       "2  After a very successful outdoor summer season ...  "
      ]
     },
     "execution_count": 195,
     "metadata": {},
     "output_type": "execute_result"
    }
   ],
   "source": [
    "#### Cleaning final dataset step\n",
    "df_theatre_v2 = df_theatre.copy()\n",
    "df_theatre_v2['Reviewer'] = df_theatre_v2['Reviewer'].apply(lambda x: x.replace('<span','') if x != None else x)\n",
    "df_theatre_v2['Review'] = df_theatre_v2['Review'].apply(lambda x: '' if '<!-- /*' in x  else x)\n",
    "df_theatre_v2 = df_theatre_v2.drop(283).reset_index(drop=True)\n",
    "df_theatre_v2 = df_theatre_v2.drop(284).reset_index(drop=True)\n",
    "df_theatre_v2 = df_theatre_v2.drop(285).reset_index(drop=True)\n",
    "list_ratings_1 = list(df_theatre_v2['Rating'])\n",
    "list_ratings_2 = list_ratings_1\n",
    "list_ratings_2.pop(209)\n",
    "list_ratings_2[282] = '★★★★'\n",
    "list_ratings_2.insert(283,'★★★★')\n",
    "list_ratings_2.insert(284,'★★★★')\n",
    "list_ratings_2 = list_ratings_2[:-1]\n",
    "df_theatre_v2['Rating'] = list_ratings_2\n",
    "df_theatre_v2 = df_theatre_v2.append({'Newspaper':'\tPocket Size Theatre',\n",
    "                      'Date':'10/07/2014',\n",
    "                      'Reviewer':'Harriet Langdown',\n",
    "                      'Title':'The Curious Incident of the Dog in the Night-Time',\n",
    "                      'Theatre':'the Gielgud Theatre',\n",
    "                      'Rating':'★★★★★',\n",
    "                      'Review':'Mark Haddon’s “The Curious Incident of the Dog in the Night-Time” was published in 2003. It was the winner of more than seventeen literary awards and has now been adapted by Simon Stephens for the production that opened at the Apollo theatre in March 2013 after a successful stint at the Cottesloe with the National Theatre. It received much critical acclaim and won seven Olivier Awards including Best New Play. It has now transferred to the Gielgud Theatre where it re-opened on Monday 7th July 2014.The Curious Incident of the Dog in the Night-time follows the story of 15 year old Christopher Boone who suffers from Aspergers Syndrome, and Autism. After his next door neighbour’s dog, Wellington, is killed with a garden fork, Christopher sets it upon himself to be a detective who must be “very very brave” and find out who the murderer is. As his journey takes off, we see his life at his “special school” where the kids are “stupid, although I’m not supposed to say that” (says Christopher). Despite his illnesses, Christopher is a superb mathematician and has set it upon himself to be the first 15 year old at his school to sit a Maths A-Level exam.  We also learn about his family life, and his career aspirations for the future as we follow his journey from 12:07am on the night of the dog’s murder…Both my parents have read Mark Haddon’s novel, so I had heard much about it, but made a conscious decision not to read it before I saw the play because I knew I would spend more time worrying about it as an adaptation rather than for the play it actually was. I went in completely blind, but from the moment I took my seat, I was hooked. Created by Academy Award nominated designer Bunny Christie, the set initially appeared to be deep set stage set out like a giant cubed grid – all in black and white. Once the play started, it was clear everything was not as simplistic as it originally seemed. I felt like the cube was a representation of the inside of Christopher’s mind and I was trapped in this giant, confused and chaotic state with him for the duration.The floor is a giant chalkboard, and at each cross point of the stage; on the floor, the walls and the ceiling, there was a hidden LED light which provided so much visual spectacle for the show, I was blown away. Lighting designer, Paule Constable has previously won 4 Olivier Awards and a Tony, amongst others, and she represented herself with stunning visuals which carried the entire production. It was so intelligent and original, I just loved it.With such a remarkable set and stunning lighting, the actors could easily have been lost amidst such a spectacle, but they weren’t. Simply put, Graham Butler is nothing short of phenomenal. He was totally convincing as “Christopher Boone”, performing his role with sensitivity and true expertise. It was a master-class in playing a “handicapped” role without being distasteful. Mr Butler was astounding and is the heart, body and soul of this production. His physicality was exceptional and his voice was used in such a remarkable way, much to the acclaim of voice coach Barbara Houseman and dialect coach Jeannette Nelson. His performance was heart-warming, engrossing and sympathetic all at the same time. He was just totally fabulous.As Christopher’s father, “Ed”, Nicolas Tennant was also superb. His shining moments were as the “endearing and sensitive” father as opposed to the “angry and vengeful” man he can sometimes be. I personally felt his emotional journey was as great as Christopher’s and despite all his flaws, I was rooting for him to be happy and to be the father that Christopher needed.From the ensemble, Sam Bond was excellent across multiple roles. He provided some much needed comedic relief towards the end of Act One, and won some of the biggest laughs of the night. Similarly, Vivienne Acheampong shone in her roles, and won the crowd over as a Caribbean “Information Guide” on the London Underground. It would also be unfair not to mention Battenberg the rat as “Toby”. He’s a real star in the making! The ensemble as a whole provided excellent figures for interpretive movements on the stage that reminded me of a kooky drama class exercise, but it wasn’t tacky or laughable – it worked. The interpretation was so cleverly directed by Marianne Elliott, the result was an accomplished and exceptional production, for which she should be recognised.Overall, this play is totally original and unlike anything else I have ever seen. The lighting and set design were the highlights for me because of their originality, but that is in no way a discredit to Graham Butler who was utterly magnificent. I could quote my favourite moments all day, but we would be here…all day. The script is magnificent and the actors provide such heart to the words, you need to see it from them, rather than read it from me.I cannot implore you enough to go and see this remarkable piece of theatre. My audience was utterly captivated throughout the duration; I heard laughter, and gasps of shock and “awwws” many many times, but never any whispers of confusion or talking during some of the long silences on stage. I cried near the end because of how much love there is in this production. It might be a total cliché but it was the heart of this play that brought me, and several others around me, to tears. It was exhausting on my eyes, loud in my ears, and an emotional roller-coaster in my heart, but it was truly spectacular. Trust me when I say that this is a play not to be missed. It is sensational.'}, ignore_index=True)\n",
    "df_theatre_v2.head(3)"
   ]
  },
  {
   "cell_type": "code",
   "execution_count": 196,
   "metadata": {},
   "outputs": [
    {
     "data": {
      "text/html": [
       "<div>\n",
       "<style scoped>\n",
       "    .dataframe tbody tr th:only-of-type {\n",
       "        vertical-align: middle;\n",
       "    }\n",
       "\n",
       "    .dataframe tbody tr th {\n",
       "        vertical-align: top;\n",
       "    }\n",
       "\n",
       "    .dataframe thead th {\n",
       "        text-align: right;\n",
       "    }\n",
       "</style>\n",
       "<table border=\"1\" class=\"dataframe\">\n",
       "  <thead>\n",
       "    <tr style=\"text-align: right;\">\n",
       "      <th></th>\n",
       "      <th>Newspaper</th>\n",
       "      <th>Date</th>\n",
       "      <th>Reviewer</th>\n",
       "      <th>Title</th>\n",
       "      <th>Theatre</th>\n",
       "      <th>Rating</th>\n",
       "      <th>Review</th>\n",
       "    </tr>\n",
       "  </thead>\n",
       "  <tbody>\n",
       "    <tr>\n",
       "      <th>325</th>\n",
       "      <td>Pocket Size Theatre</td>\n",
       "      <td>16/09/2014</td>\n",
       "      <td>Sophie Tergeist</td>\n",
       "      <td>Ghosts from a Perfect Place</td>\n",
       "      <td>the Arcola Theatre</td>\n",
       "      <td>★★★★</td>\n",
       "      <td>This month, and until 11 October, the innovati...</td>\n",
       "    </tr>\n",
       "    <tr>\n",
       "      <th>326</th>\n",
       "      <td>Pocket Size Theatre</td>\n",
       "      <td>11/09/2014</td>\n",
       "      <td>None</td>\n",
       "      <td>Great Britain</td>\n",
       "      <td>Britain</td>\n",
       "      <td>★★★★</td>\n",
       "      <td>This play is a look at society and the media, ...</td>\n",
       "    </tr>\n",
       "    <tr>\n",
       "      <th>327</th>\n",
       "      <td>\\tPocket Size Theatre</td>\n",
       "      <td>10/07/2014</td>\n",
       "      <td>Harriet Langdown</td>\n",
       "      <td>The Curious Incident of the Dog in the Night-Time</td>\n",
       "      <td>the Gielgud Theatre</td>\n",
       "      <td>★★★★★</td>\n",
       "      <td>Mark Haddon’s “The Curious Incident of the Dog...</td>\n",
       "    </tr>\n",
       "  </tbody>\n",
       "</table>\n",
       "</div>"
      ],
      "text/plain": [
       "                 Newspaper        Date          Reviewer  \\\n",
       "325    Pocket Size Theatre  16/09/2014   Sophie Tergeist   \n",
       "326    Pocket Size Theatre  11/09/2014              None   \n",
       "327  \\tPocket Size Theatre  10/07/2014  Harriet Langdown   \n",
       "\n",
       "                                                 Title              Theatre  \\\n",
       "325                        Ghosts from a Perfect Place  the Arcola Theatre    \n",
       "326                                      Great Britain             Britain    \n",
       "327  The Curious Incident of the Dog in the Night-Time  the Gielgud Theatre   \n",
       "\n",
       "    Rating                                             Review  \n",
       "325   ★★★★  This month, and until 11 October, the innovati...  \n",
       "326   ★★★★  This play is a look at society and the media, ...  \n",
       "327  ★★★★★  Mark Haddon’s “The Curious Incident of the Dog...  "
      ]
     },
     "execution_count": 196,
     "metadata": {},
     "output_type": "execute_result"
    }
   ],
   "source": [
    "df_theatre_v2.tail(3)"
   ]
  },
  {
   "cell_type": "code",
   "execution_count": 197,
   "metadata": {},
   "outputs": [],
   "source": [
    "# Export to csv and excel format\n",
    "df_theatre_v2.to_csv('20201108_pocketsizetheatre_v1.csv')\n",
    "df_theatre_v2.to_excel('20201108_pocketsizetheatre_v1.xlsx')"
   ]
  }
 ],
 "metadata": {
  "kernelspec": {
   "display_name": "Python 3",
   "language": "python",
   "name": "python3"
  },
  "language_info": {
   "codemirror_mode": {
    "name": "ipython",
    "version": 3
   },
   "file_extension": ".py",
   "mimetype": "text/x-python",
   "name": "python",
   "nbconvert_exporter": "python",
   "pygments_lexer": "ipython3",
   "version": "3.7.6"
  }
 },
 "nbformat": 4,
 "nbformat_minor": 4
}
