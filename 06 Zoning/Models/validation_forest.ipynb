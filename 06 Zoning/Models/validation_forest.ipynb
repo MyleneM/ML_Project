{
 "cells": [
  {
   "cell_type": "code",
   "execution_count": 1,
   "metadata": {},
   "outputs": [
    {
     "name": "stderr",
     "output_type": "stream",
     "text": [
      "[nltk_data] Error loading stopwords: <urlopen error [Errno 11001]\n",
      "[nltk_data]     getaddrinfo failed>\n",
      "[nltk_data] Error loading punkt: <urlopen error [Errno 11001]\n",
      "[nltk_data]     getaddrinfo failed>\n",
      "[nltk_data] Error loading wordnet: <urlopen error [Errno 11001]\n",
      "[nltk_data]     getaddrinfo failed>\n",
      "[nltk_data] Error loading vader_lexicon: <urlopen error [Errno 11001]\n",
      "[nltk_data]     getaddrinfo failed>\n"
     ]
    }
   ],
   "source": [
    "import pandas as pd\n",
    "import numpy as np\n",
    "from sklearn.tree import DecisionTreeClassifier # Import Decision Tree Classifier\n",
    "from sklearn.ensemble import RandomForestClassifier\n",
    "from sklearn.model_selection import train_test_split # Import train_test_split function\n",
    "from sklearn import metrics\n",
    "from textblob import TextBlob\n",
    "import text2emotion as te\n",
    "import nltk\n",
    "from sklearn.tree import export_graphviz\n",
    "# import pydotplus\n",
    "from sklearn import metrics\n",
    "from sklearn.metrics import confusion_matrix, classification_report\n",
    "nltk.download('vader_lexicon')\n",
    "from nltk.sentiment.vader import SentimentIntensityAnalyzer\n",
    "from sklearn import metrics\n",
    "from sklearn.metrics import confusion_matrix, classification_report\n",
    "\n",
    "pd.set_option('display.max_columns', None)\n",
    "pd.set_option('display.max_rows', None)\n",
    "\n",
    "import matplotlib.pyplot as plt"
   ]
  },
  {
   "cell_type": "code",
   "execution_count": 2,
   "metadata": {
    "scrolled": false
   },
   "outputs": [],
   "source": [
    "df = pd.read_excel(\"../Data/data_final_zoning_sentence_v1.xlsx\")"
   ]
  },
  {
   "cell_type": "code",
   "execution_count": 3,
   "metadata": {},
   "outputs": [],
   "source": [
    "labels = [\"Purple - Introduction\",\n",
    "          \"Red - Plot\",\n",
    "          \"Blue - General\",\n",
    "          \"Green - Details\",\n",
    "          \"Orange - Performances\",\n",
    "          \"Brown - Structure\",\n",
    "          \"Yellow - Conclusion\"]"
   ]
  },
  {
   "cell_type": "code",
   "execution_count": 4,
   "metadata": {},
   "outputs": [],
   "source": [
    "features_review = ['Review - Count Character',\n",
    "                   'Review - Beginning_Cat',\n",
    "                   'Review - Body',\n",
    "                   'Review - Love',\n",
    "                   'Review - Compound',\n",
    "                   'Review - Neu',\n",
    "                   'Review - Polarity',\n",
    "                   'Review - Length_Start_Count_Words_3',\n",
    "                   'Review - Length_Start_Count_Words_1']\n",
    "features_sentence = ['Sentence - Noms', 'Sentence - Count Word',\n",
    "                     'Sentence - 3e_pers_s',\n",
    "                     'Sentence - Start Index',\n",
    "                     'Sentence - Adverbes',\n",
    "                     'Sentence - Polarity',\n",
    "                     'Sentence - Word_Average',\n",
    "                     'Sentence - Passe',\n",
    "                     'Sentence - Verbes',\n",
    "                     'Sentence - Subjectivity',\n",
    "                     'Sentence - Adjectifs']\n",
    "\n",
    "features = features_review + features_sentence"
   ]
  },
  {
   "cell_type": "code",
   "execution_count": 5,
   "metadata": {
    "scrolled": true
   },
   "outputs": [
    {
     "name": "stdout",
     "output_type": "stream",
     "text": [
      "Accuracy: 0.54\n",
      "Confusion Matrix: \n",
      " [[35 11  1  0  0  0  0]\n",
      " [ 9 29  5  0  1  0  0]\n",
      " [ 0 11 20  1  4  0  6]\n",
      " [ 0  7  0  4  2  0  1]\n",
      " [ 0  5  4  0  4  0  7]\n",
      " [ 0  1  2  1  0  0  3]\n",
      " [ 0  4  1  2  0  0 14]]\n",
      "                       precision    recall  f1-score   support\n",
      "\n",
      "Purple - Introduction       0.80      0.74      0.77        47\n",
      "           Red - Plot       0.43      0.66      0.52        44\n",
      "       Blue - General       0.61      0.48      0.53        42\n",
      "      Green - Details       0.50      0.29      0.36        14\n",
      "Orange - Performances       0.36      0.20      0.26        20\n",
      "    Brown - Structure       0.00      0.00      0.00         7\n",
      "  Yellow - Conclusion       0.45      0.67      0.54        21\n",
      "\n",
      "             accuracy                           0.54       195\n",
      "            macro avg       0.45      0.43      0.43       195\n",
      "         weighted avg       0.54      0.54      0.53       195\n",
      "\n"
     ]
    },
    {
     "name": "stderr",
     "output_type": "stream",
     "text": [
      "C:\\Users\\theo-\\anaconda3\\lib\\site-packages\\sklearn\\metrics\\_classification.py:1248: UndefinedMetricWarning: Precision and F-score are ill-defined and being set to 0.0 in labels with no predicted samples. Use `zero_division` parameter to control this behavior.\n",
      "  _warn_prf(average, modifier, msg_start, len(result))\n",
      "C:\\Users\\theo-\\anaconda3\\lib\\site-packages\\sklearn\\metrics\\_classification.py:1248: UndefinedMetricWarning: Precision and F-score are ill-defined and being set to 0.0 in labels with no predicted samples. Use `zero_division` parameter to control this behavior.\n",
      "  _warn_prf(average, modifier, msg_start, len(result))\n",
      "C:\\Users\\theo-\\anaconda3\\lib\\site-packages\\sklearn\\metrics\\_classification.py:1248: UndefinedMetricWarning: Precision and F-score are ill-defined and being set to 0.0 in labels with no predicted samples. Use `zero_division` parameter to control this behavior.\n",
      "  _warn_prf(average, modifier, msg_start, len(result))\n"
     ]
    }
   ],
   "source": [
    "X = df[features]\n",
    "\n",
    "y = df['Target_Variable_Sentence_Type']\n",
    "\n",
    "# Split dataset into training set and test set\n",
    "X_train, X_test, y_train, y_test = train_test_split(X, y, test_size=0.3, random_state=1) # 70% training and 30% test\n",
    "\n",
    "# Create Decision Tree classifer object\n",
    "clf = DecisionTreeClassifier(min_samples_leaf=10)\n",
    "\n",
    "# Train Decision Tree Classifer\n",
    "clf = clf.fit(X_train, y_train)\n",
    "\n",
    "#Predict the response for test dataset\n",
    "# Predicting the test results\n",
    "y_pred=clf.predict(X_test)\n",
    "\n",
    "# Classification results on test set\n",
    "accuracy = metrics.accuracy_score(y_test, y_pred)\n",
    "print(\"Accuracy: {:.2f}\".format(accuracy))\n",
    "\n",
    "cm=confusion_matrix(y_test,y_pred)\n",
    "print('Confusion Matrix: \\n', cm)\n",
    "print(classification_report(y_test, y_pred, target_names=labels))"
   ]
  },
  {
   "cell_type": "markdown",
   "metadata": {},
   "source": [
    "<h3> Comme ce qui nous intéresse est de retirer la partie 'introduction' et 'plot', on créé un modèle de classification à deux classes: </h3>"
   ]
  },
  {
   "cell_type": "code",
   "execution_count": 6,
   "metadata": {},
   "outputs": [],
   "source": [
    "df_2_classes = df.where(df['Target_Variable_Sentence_Type']>2, 0)\n",
    "df_2_classes = df_2_classes.where(df['Target_Variable_Sentence_Type']<=2, 1)"
   ]
  },
  {
   "cell_type": "code",
   "execution_count": 7,
   "metadata": {},
   "outputs": [
    {
     "name": "stdout",
     "output_type": "stream",
     "text": [
      "Accuracy: 0.84\n",
      "Confusion Matrix: \n",
      " [[159  21]\n",
      " [ 31 114]]\n",
      "              precision    recall  f1-score   support\n",
      "\n",
      "Intro & Plot       0.84      0.88      0.86       180\n",
      "      Others       0.84      0.79      0.81       145\n",
      "\n",
      "    accuracy                           0.84       325\n",
      "   macro avg       0.84      0.83      0.84       325\n",
      "weighted avg       0.84      0.84      0.84       325\n",
      "\n"
     ]
    }
   ],
   "source": [
    "X = df[features]\n",
    "\n",
    "y = df_2_classes['Target_Variable_Sentence_Type']\n",
    "\n",
    "# Split dataset into training set and test set\n",
    "X_train, X_test, y_train, y_test = train_test_split(X, y, test_size=0.5) # 50% training and 50% test\n",
    "\n",
    "# Create Decision Tree classifer object\n",
    "clf = DecisionTreeClassifier(min_samples_leaf=10)\n",
    "\n",
    "# Train Decision Tree Classifer\n",
    "clf = clf.fit(X_train, y_train)\n",
    "\n",
    "#Predict the response for test dataset\n",
    "# Predicting the test results\n",
    "y_pred=clf.predict(X_test)\n",
    "\n",
    "# Classification results on test set\n",
    "accuracy = metrics.accuracy_score(y_test, y_pred)\n",
    "print(\"Accuracy: {:.2f}\".format(accuracy))\n",
    "\n",
    "cm=confusion_matrix(y_test,y_pred)\n",
    "print('Confusion Matrix: \\n', cm)\n",
    "print(classification_report(y_test, y_pred, target_names=['Intro & Plot', 'Others']))"
   ]
  },
  {
   "cell_type": "markdown",
   "metadata": {},
   "source": [
    "<h3> On obtient tout de suite de meilleurs résultats!! </h3>"
   ]
  },
  {
   "cell_type": "markdown",
   "metadata": {},
   "source": [
    "<h3> On regarde l'importance des prédicteurs </h3>"
   ]
  },
  {
   "cell_type": "code",
   "execution_count": 8,
   "metadata": {
    "scrolled": true
   },
   "outputs": [
    {
     "data": {
      "image/png": "[encoded data removed]",
      "text/plain": [
       "<Figure size 432x288 with 1 Axes>"
      ]
     },
     "metadata": {
      "needs_background": "light"
     },
     "output_type": "display_data"
    }
   ],
   "source": [
    "importance = clf.feature_importances_\n",
    "tree_importance = pd.Series(importance, index=features)\n",
    "top_tree_importance = tree_importance.sort_values(ascending=False)[:10]\n",
    "\n",
    "fig, ax = plt.subplots()\n",
    "ax.set_title('Feature importance (using mean decrease impurity)')\n",
    "top_tree_importance.plot.bar(ax=ax)\n",
    "fig.tight_layout()"
   ]
  },
  {
   "cell_type": "markdown",
   "metadata": {},
   "source": [
    "Grosse importance de la part du 'Start Index', cela peut influer sur les performances par la suite si on se base trop sur ce prédicteur."
   ]
  },
  {
   "cell_type": "markdown",
   "metadata": {},
   "source": [
    "<h3> Et si on ajoutait le nombre de phrases (consécutives) du même type? </h3>"
   ]
  },
  {
   "cell_type": "code",
   "execution_count": 9,
   "metadata": {},
   "outputs": [
    {
     "data": {
      "text/plain": [
       "21"
      ]
     },
     "execution_count": 9,
     "metadata": {},
     "output_type": "execute_result"
    }
   ],
   "source": [
    "new_features = features+['Sentence - Consecutive sentence type']\n",
    "len(new_features)"
   ]
  },
  {
   "cell_type": "code",
   "execution_count": 10,
   "metadata": {},
   "outputs": [],
   "source": [
    "def create_new_features(group):\n",
    "    # Prédicteur: type de la dernière phrase\n",
    "    array_last_sentence = np.zeros(len(group), dtype=np.int32)\n",
    "    array_last_sentence[1:] = group['Target_Variable_Sentence_Type'][:-1]\n",
    "    group['Sentence - Last sentence type'] = array_last_sentence\n",
    "\n",
    "    # Prédicteur: nombre de phrases consécutifs du même type\n",
    "    array_cons_sentence_type = np.zeros(len(group), dtype=np.int32)\n",
    "    consecutive_type = 0\n",
    "    for i, (type_sentence, type_last_sentence) in enumerate(zip(group['Target_Variable_Sentence_Type'][1:],\n",
    "                                                                group['Target_Variable_Sentence_Type'][:-1])):\n",
    "        if type_sentence == type_last_sentence:\n",
    "            consecutive_type += 1\n",
    "        else:\n",
    "            consecutive_type = 0\n",
    "        array_cons_sentence_type[i] = consecutive_type\n",
    "\n",
    "    group['Sentence - Consecutive sentence type'] = array_cons_sentence_type\n",
    "    # group['Sentence - Advancement in review'] = np.linspace(0, 1, len(group['Target_Variable_Sentence_Type']))\n",
    "\n",
    "    return group\n",
    "\n",
    "df_group = df.groupby(['Review - Title of the Play'])\n",
    "\n",
    "df_essential_features_and_type = df_group.apply(create_new_features)"
   ]
  },
  {
   "cell_type": "code",
   "execution_count": 11,
   "metadata": {},
   "outputs": [
    {
     "name": "stderr",
     "output_type": "stream",
     "text": [
      "C:\\Users\\theo-\\AppData\\Local\\Temp/ipykernel_10924/1228302147.py:15: DataConversionWarning: A column-vector y was passed when a 1d array was expected. Please change the shape of y to (n_samples,), for example using ravel().\n",
      "  clf = clf.fit(X_train, y_train)\n"
     ]
    },
    {
     "name": "stdout",
     "output_type": "stream",
     "text": [
      "Accuracy: 0.90\n",
      "Confusion Matrix: \n",
      " [[144  19]\n",
      " [ 15 147]]\n",
      "              precision    recall  f1-score   support\n",
      "\n",
      "Intro & Plot       0.91      0.88      0.89       163\n",
      "      Others       0.89      0.91      0.90       162\n",
      "\n",
      "    accuracy                           0.90       325\n",
      "   macro avg       0.90      0.90      0.90       325\n",
      "weighted avg       0.90      0.90      0.90       325\n",
      "\n"
     ]
    }
   ],
   "source": [
    "X = df_essential_features_and_type[new_features]\n",
    "\n",
    "y = df_2_classes[[\"Target_Variable_Sentence_Type\"]]\n",
    "\n",
    "# Split dataset into training set and test set\n",
    "X_train, X_test, y_train, y_test = train_test_split(X, y, test_size=0.5, random_state=1)\n",
    "\n",
    "# Create Decision Tree classifer object\n",
    "# clf = DecisionTreeClassifier(min_samples_leaf=10)\n",
    "\n",
    "# Create Random Forest Classifier object\n",
    "clf = RandomForestClassifier(min_samples_leaf=10, max_features=int(X_train.shape[1]/3))\n",
    "\n",
    "# Train Decision Tree Classifer\n",
    "clf = clf.fit(X_train, y_train)\n",
    "\n",
    "# Predicting the test results\n",
    "y_pred = clf.predict(X_test)\n",
    "\n",
    "# Classification results on test set\n",
    "accuracy = metrics.accuracy_score(y_test, y_pred)\n",
    "print(\"Accuracy: {:.2f}\".format(accuracy))\n",
    "\n",
    "cm=confusion_matrix(y_test, y_pred)\n",
    "print('Confusion Matrix: \\n', cm)\n",
    "print(classification_report(y_test, y_pred, target_names=['Intro & Plot', 'Others']))"
   ]
  },
  {
   "cell_type": "code",
   "execution_count": 12,
   "metadata": {
    "scrolled": true
   },
   "outputs": [
    {
     "data": {
      "image/png": "[encoded data removed]",
      "text/plain": [
       "<Figure size 432x288 with 1 Axes>"
      ]
     },
     "metadata": {
      "needs_background": "light"
     },
     "output_type": "display_data"
    }
   ],
   "source": [
    "importance = clf.feature_importances_\n",
    "tree_importance = pd.Series(importance, index=new_features)\n",
    "top_tree_importance = tree_importance.sort_values(ascending=False)\n",
    "\n",
    "fig, ax = plt.subplots()\n",
    "ax.set_title('Feature importance (using mean decrease impurity)')\n",
    "top_tree_importance.plot.bar(ax=ax)\n",
    "fig.tight_layout()"
   ]
  },
  {
   "cell_type": "code",
   "execution_count": 13,
   "metadata": {},
   "outputs": [],
   "source": [
    "df_2_classes['Review - Title of the Play'] = df['Review - Title of the Play']\n",
    "y_2_classes = df_2_classes.groupby(['Review - Title of the Play'])"
   ]
  },
  {
   "cell_type": "code",
   "execution_count": 14,
   "metadata": {},
   "outputs": [],
   "source": [
    "Y_pred = []\n",
    "Y_true = []\n",
    "\n",
    "for ((name, group), (y_name, y_group)) in zip(df_group, y_2_classes):\n",
    "    index_sentence = 0\n",
    "    type_last_sentence = 0\n",
    "    consecutive_type = 1\n",
    "    for X, y_true in zip(np.array(group[features]), y_group['Target_Variable_Sentence_Type']):\n",
    "        # Ajout du prédicteur\n",
    "        X = np.append(X, consecutive_type)\n",
    "\n",
    "        # Augmentation de la dimension (pour devenir matrice) puis prédiction\n",
    "        X = np.expand_dims(X, axis=0)\n",
    "        y_pred = clf.predict(X)\n",
    "    \n",
    "        # Ajout de l'état prédit\n",
    "        Y_pred.append(y_pred)\n",
    "        Y_true.append(y_true)\n",
    "\n",
    "        # Mise à jour du predicteur\n",
    "        if y_pred == type_last_sentence:\n",
    "            consecutive_type += 1\n",
    "        else:\n",
    "            consecutive_type = 0\n",
    "        type_last_sentence = y_pred\n",
    "        index_sentence += 1"
   ]
  },
  {
   "cell_type": "code",
   "execution_count": 15,
   "metadata": {},
   "outputs": [
    {
     "name": "stdout",
     "output_type": "stream",
     "text": [
      "Accuracy: 0.88\n",
      "Confusion Matrix: \n",
      " [[328  12]\n",
      " [ 64 246]]\n",
      "              precision    recall  f1-score   support\n",
      "\n",
      "Intro & Plot       0.84      0.96      0.90       340\n",
      "      Others       0.95      0.79      0.87       310\n",
      "\n",
      "    accuracy                           0.88       650\n",
      "   macro avg       0.90      0.88      0.88       650\n",
      "weighted avg       0.89      0.88      0.88       650\n",
      "\n"
     ]
    }
   ],
   "source": [
    "accuracy = metrics.accuracy_score(Y_true, Y_pred)\n",
    "print(\"Accuracy: {:.2f}\".format(accuracy))\n",
    "\n",
    "cm=confusion_matrix(Y_true, Y_pred)\n",
    "print('Confusion Matrix: \\n', cm)\n",
    "print(classification_report(Y_true, Y_pred, target_names=['Intro & Plot', 'Others']))"
   ]
  },
  {
   "cell_type": "markdown",
   "metadata": {},
   "source": [
    "<h2>On regarde si il est possible d'enlever des prédicteurs pour allèger le modèle </h2>"
   ]
  },
  {
   "cell_type": "code",
   "execution_count": 16,
   "metadata": {},
   "outputs": [],
   "source": [
    "light_features = ['Review - Compound', 'Review - Count Character',\n",
    "                  'Sentence - Word_Average', 'Sentence - Start Index',\n",
    "                  'Sentence - Consecutive sentence type']"
   ]
  },
  {
   "cell_type": "code",
   "execution_count": 17,
   "metadata": {
    "scrolled": false
   },
   "outputs": [
    {
     "name": "stderr",
     "output_type": "stream",
     "text": [
      "C:\\Users\\theo-\\AppData\\Local\\Temp/ipykernel_10924/3687430133.py:15: DataConversionWarning: A column-vector y was passed when a 1d array was expected. Please change the shape of y to (n_samples,), for example using ravel().\n",
      "  clf = clf.fit(X_train, y_train)\n"
     ]
    },
    {
     "name": "stdout",
     "output_type": "stream",
     "text": [
      "Accuracy: 0.86\n",
      "Confusion Matrix: \n",
      " [[143  20]\n",
      " [ 24 138]]\n",
      "              precision    recall  f1-score   support\n",
      "\n",
      "Intro & Plot       0.86      0.88      0.87       163\n",
      "      Others       0.87      0.85      0.86       162\n",
      "\n",
      "    accuracy                           0.86       325\n",
      "   macro avg       0.86      0.86      0.86       325\n",
      "weighted avg       0.86      0.86      0.86       325\n",
      "\n"
     ]
    }
   ],
   "source": [
    "X = df_essential_features_and_type[light_features]\n",
    "\n",
    "y = df_2_classes[[\"Target_Variable_Sentence_Type\"]]\n",
    "\n",
    "# Split dataset into training set and test set\n",
    "X_train, X_test, y_train, y_test = train_test_split(X, y, test_size=0.5, random_state=1)\n",
    "\n",
    "# Create Decision Tree classifer object\n",
    "# clf = DecisionTreeClassifier(min_samples_leaf=10)\n",
    "\n",
    "# Create Random Forest Classifier object\n",
    "clf = RandomForestClassifier(min_samples_leaf=10, max_features=int(X_train.shape[1]/3))\n",
    "\n",
    "# Train Decision Tree Classifer\n",
    "clf = clf.fit(X_train, y_train)\n",
    "\n",
    "# Predicting the test results\n",
    "y_pred = clf.predict(X_test)\n",
    "\n",
    "# Classification results on test set\n",
    "accuracy = metrics.accuracy_score(y_test, y_pred)\n",
    "print(\"Accuracy: {:.2f}\".format(accuracy))\n",
    "\n",
    "cm=confusion_matrix(y_test, y_pred)\n",
    "print('Confusion Matrix: \\n', cm)\n",
    "print(classification_report(y_test, y_pred, target_names=['Intro & Plot', 'Others']))"
   ]
  },
  {
   "cell_type": "markdown",
   "metadata": {},
   "source": [
    "<h2> On valide !! On passe de 0.87 avec 21 features à 0.86 avec 5 features </h2>"
   ]
  },
  {
   "cell_type": "code",
   "execution_count": 18,
   "metadata": {},
   "outputs": [],
   "source": [
    "import pickle\n",
    "filename = '../Save Models/finalized_model_tree_v3_sentence_just_sentence.sav'\n",
    "pickle.dump(clf, open(filename, 'wb'))"
   ]
  },
  {
   "cell_type": "code",
   "execution_count": null,
   "metadata": {},
   "outputs": [],
   "source": []
  }
 ],
 "metadata": {
  "kernelspec": {
   "display_name": "Python 3 (ipykernel)",
   "language": "python",
   "name": "python3"
  },
  "language_info": {
   "codemirror_mode": {
    "name": "ipython",
    "version": 3
   },
   "file_extension": ".py",
   "mimetype": "text/x-python",
   "name": "python",
   "nbconvert_exporter": "python",
   "pygments_lexer": "ipython3",
   "version": "3.9.7"
  }
 },
 "nbformat": 4,
 "nbformat_minor": 4
}
