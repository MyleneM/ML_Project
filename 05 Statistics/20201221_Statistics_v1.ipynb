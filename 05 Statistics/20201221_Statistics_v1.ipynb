{
 "cells": [
  {
   "cell_type": "markdown",
   "metadata": {},
   "source": [
    "# 20201221_Statistics_v1"
   ]
  },
  {
   "cell_type": "markdown",
   "metadata": {},
   "source": [
    "# Import Packages"
   ]
  },
  {
   "cell_type": "code",
   "execution_count": 15,
   "metadata": {},
   "outputs": [],
   "source": [
    "import os\n",
    "import pandas as pd\n",
    "import numpy as np\n",
    "from nltk.corpus import stopwords\n",
    "import statistics as stat\n",
    "import matplotlib.pyplot as plt\n",
    "from matplotlib import pyplot"
   ]
  },
  {
   "cell_type": "code",
   "execution_count": null,
   "metadata": {},
   "outputs": [],
   "source": [
    "import nltk\n",
    "nltk.download()\n",
    "nltk.download(\"stopwords\")"
   ]
  },
  {
   "cell_type": "code",
   "execution_count": 21,
   "metadata": {},
   "outputs": [],
   "source": [
    "###################################################\n",
    "\n",
    "# FONCTIONS : \n",
    "\n",
    "def nettoyage(ch): \n",
    "    ch = ch.lower()\n",
    "    car_spec = [',',';',':','/','-','_','\\t','\\n','^','<','>','\"',\n",
    "                '$','£','€','*','#','%','{','}','[',']','(',')','&',\n",
    "                '+','=',\"'\"]\n",
    "    for c in car_spec: \n",
    "        ch = ch.replace(c,\" \")\n",
    "    car_fin = ['...','?','!','.']\n",
    "    for c in car_fin: \n",
    "        ch = ch.replace(c,\" .\")\n",
    "    ch = ch.replace(\"  \",\" \")\n",
    "    return ch\n",
    "\n",
    "def nettoyage_stopwords(ch): \n",
    "    l = ch.split(\" \")\n",
    "    sw = stopwords.words('english') \n",
    "    l = [w for w in l if w not in sw]\n",
    "    l=[x for x in l if x!='']\n",
    "    l=[x for x in l if (x=='.' or len(x)!=1)] \n",
    "    l=[x for x in l if len(x)<20] \n",
    "    return \" \".join(l)\n",
    "\n",
    "def count_words(ch): \n",
    "    l = ch.split(\" \")\n",
    "    l=[x for x in l if x!='']\n",
    "    l=[x for x in l if x!='.']\n",
    "    return len(l)  \n",
    "\n",
    "def count_unique_words(ch): \n",
    "    l = ch.split(\" \")\n",
    "    l=[x for x in l if x!='']\n",
    "    l=[x for x in l if x!='.']\n",
    "    l = np.array(l)\n",
    "    return len(np.unique(l))\n",
    "\n",
    "def count_sentences(ch): \n",
    "    return len(ch.split('. '))-1 \n",
    "\n",
    "def longueur_mots(ch): \n",
    "    ch  =  ch.replace('.',' ')\n",
    "    ch = ch.replace(\"  \",\" \")\n",
    "    l = ch.split(\" \")\n",
    "    l=[x for x in l if x!='']\n",
    "    l=[x for x in l if len(x)!=1]\n",
    "    res = [] \n",
    "    for k in range(len(l)):\n",
    "        res.append(len(l[k]))\n",
    "    return [min(res),max(res),stat.mean(res),stat.median(res)]\n",
    "\n",
    "def longueur_phrases(ch): \n",
    "    l = ch.split(\". \") \n",
    "    res = [] \n",
    "    for k in range(len(l)): \n",
    "        l1 = l[k].split(\" \") \n",
    "        l1=[x for x in l1 if x!='']\n",
    "        l1=[x for x in l1 if len(x)!=1]\n",
    "        res.append(len(l1))\n",
    "    return [min(res),max(res),stat.mean(res),stat.median(res)]\n"
   ]
  },
  {
   "cell_type": "markdown",
   "metadata": {},
   "source": [
    "# Corpus I Import"
   ]
  },
  {
   "cell_type": "code",
   "execution_count": 17,
   "metadata": {},
   "outputs": [
    {
     "data": {
      "text/html": [
       "<div>\n",
       "<style scoped>\n",
       "    .dataframe tbody tr th:only-of-type {\n",
       "        vertical-align: middle;\n",
       "    }\n",
       "\n",
       "    .dataframe tbody tr th {\n",
       "        vertical-align: top;\n",
       "    }\n",
       "\n",
       "    .dataframe thead th {\n",
       "        text-align: right;\n",
       "    }\n",
       "</style>\n",
       "<table border=\"1\" class=\"dataframe\">\n",
       "  <thead>\n",
       "    <tr style=\"text-align: right;\">\n",
       "      <th></th>\n",
       "      <th>Newspaper</th>\n",
       "      <th>Date</th>\n",
       "      <th>Reviewer</th>\n",
       "      <th>Title</th>\n",
       "      <th>Review</th>\n",
       "      <th>Author</th>\n",
       "      <th>Theatre</th>\n",
       "      <th>Opening</th>\n",
       "      <th>Closing</th>\n",
       "      <th>Director</th>\n",
       "    </tr>\n",
       "  </thead>\n",
       "  <tbody>\n",
       "    <tr>\n",
       "      <th>0</th>\n",
       "      <td>﻿﻿THE TIMES</td>\n",
       "      <td>2010-06-01</td>\n",
       "      <td>NaN</td>\n",
       "      <td>NaN</td>\n",
       "      <td>Benedict Nightingale This dinky little musical...</td>\n",
       "      <td>NaN</td>\n",
       "      <td>8.1.10</td>\n",
       "      <td>NaN</td>\n",
       "      <td>NaN</td>\n",
       "      <td>NaN</td>\n",
       "    </tr>\n",
       "    <tr>\n",
       "      <th>1</th>\n",
       "      <td>GUARDIAN</td>\n",
       "      <td>2010-07-01</td>\n",
       "      <td>Michael Billington</td>\n",
       "      <td>NaN</td>\n",
       "      <td>Sam Walters clearly has a soft spot for this ...</td>\n",
       "      <td>NaN</td>\n",
       "      <td>8.1.10</td>\n",
       "      <td>NaN</td>\n",
       "      <td>NaN</td>\n",
       "      <td>NaN</td>\n",
       "    </tr>\n",
       "    <tr>\n",
       "      <th>2</th>\n",
       "      <td>DAILY TELEGRAPH</td>\n",
       "      <td>2010-07-01</td>\n",
       "      <td>Charles Spencer</td>\n",
       "      <td>NaN</td>\n",
       "      <td>Unbelievably, The Lady or the Tiger is one of...</td>\n",
       "      <td>NaN</td>\n",
       "      <td>8.1.10</td>\n",
       "      <td>NaN</td>\n",
       "      <td>NaN</td>\n",
       "      <td>NaN</td>\n",
       "    </tr>\n",
       "  </tbody>\n",
       "</table>\n",
       "</div>"
      ],
      "text/plain": [
       "         Newspaper        Date             Reviewer Title  \\\n",
       "0      ﻿﻿THE TIMES  2010-06-01                  NaN   NaN   \n",
       "1         GUARDIAN  2010-07-01  Michael Billington    NaN   \n",
       "2  DAILY TELEGRAPH  2010-07-01     Charles Spencer    NaN   \n",
       "\n",
       "                                              Review  Author Theatre Opening  \\\n",
       "0  Benedict Nightingale This dinky little musical...     NaN  8.1.10     NaN   \n",
       "1   Sam Walters clearly has a soft spot for this ...     NaN  8.1.10     NaN   \n",
       "2   Unbelievably, The Lady or the Tiger is one of...     NaN  8.1.10     NaN   \n",
       "\n",
       "  Closing  Director  \n",
       "0     NaN       NaN  \n",
       "1     NaN       NaN  \n",
       "2     NaN       NaN  "
      ]
     },
     "execution_count": 17,
     "metadata": {},
     "output_type": "execute_result"
    }
   ],
   "source": [
    "df_corpus_I_v1 = pd.read_csv('../Corpus I/20201221_Corpus_I_v2.csv')\n",
    "df_corpus_I_v1 = df_corpus_I_v1.loc[:, ~df_corpus_I_v1.columns.str.contains('^Unnamed')]\n",
    "df_corpus_I_v1.head(3)"
   ]
  },
  {
   "cell_type": "markdown",
   "metadata": {},
   "source": [
    "# Corpus II Import"
   ]
  },
  {
   "cell_type": "code",
   "execution_count": 18,
   "metadata": {},
   "outputs": [
    {
     "data": {
      "text/html": [
       "<div>\n",
       "<style scoped>\n",
       "    .dataframe tbody tr th:only-of-type {\n",
       "        vertical-align: middle;\n",
       "    }\n",
       "\n",
       "    .dataframe tbody tr th {\n",
       "        vertical-align: top;\n",
       "    }\n",
       "\n",
       "    .dataframe thead th {\n",
       "        text-align: right;\n",
       "    }\n",
       "</style>\n",
       "<table border=\"1\" class=\"dataframe\">\n",
       "  <thead>\n",
       "    <tr style=\"text-align: right;\">\n",
       "      <th></th>\n",
       "      <th>Newspaper</th>\n",
       "      <th>Date</th>\n",
       "      <th>Reviewer</th>\n",
       "      <th>Title</th>\n",
       "      <th>Theatre</th>\n",
       "      <th>Rating</th>\n",
       "      <th>Keywords</th>\n",
       "      <th>Review</th>\n",
       "      <th>Author</th>\n",
       "      <th>Opening</th>\n",
       "      <th>Closing</th>\n",
       "      <th>Director</th>\n",
       "      <th>Categories</th>\n",
       "      <th>Theatre</th>\n",
       "      <th>Reviewer.1</th>\n",
       "    </tr>\n",
       "  </thead>\n",
       "  <tbody>\n",
       "    <tr>\n",
       "      <th>0</th>\n",
       "      <td>A YOUNGER THEATER</td>\n",
       "      <td>2020-11-12 00:00:00</td>\n",
       "      <td>Jessica Handscomb</td>\n",
       "      <td>The Dumb Waiter</td>\n",
       "      <td>Hampstead Theatre</td>\n",
       "      <td>★★★★</td>\n",
       "      <td>Alec Newman,Alice Hamilton,Harold Pinter,James...</td>\n",
       "      <td>\\nI think it’s fair to say that 2020 has been ...</td>\n",
       "      <td>NaN</td>\n",
       "      <td>NaN</td>\n",
       "      <td>NaN</td>\n",
       "      <td>NaN</td>\n",
       "      <td>NaN</td>\n",
       "      <td>NaN</td>\n",
       "      <td>NaN</td>\n",
       "    </tr>\n",
       "    <tr>\n",
       "      <th>1</th>\n",
       "      <td>A YOUNGER THEATER</td>\n",
       "      <td>2020-10-12 00:00:00</td>\n",
       "      <td>Jessica Handscomb</td>\n",
       "      <td>Mr Stink</td>\n",
       "      <td>Chickenshed Theatre</td>\n",
       "      <td>★★★</td>\n",
       "      <td>Belinda McGuirk,Bethany Hamlin,Bradley Davis,C...</td>\n",
       "      <td>\\nDavid Walliams is not my favourite children’...</td>\n",
       "      <td>NaN</td>\n",
       "      <td>NaN</td>\n",
       "      <td>NaN</td>\n",
       "      <td>NaN</td>\n",
       "      <td>NaN</td>\n",
       "      <td>NaN</td>\n",
       "      <td>NaN</td>\n",
       "    </tr>\n",
       "    <tr>\n",
       "      <th>2</th>\n",
       "      <td>A YOUNGER THEATER</td>\n",
       "      <td>2020-08-12 00:00:00</td>\n",
       "      <td>Olivia Kiely</td>\n",
       "      <td>The Gruffalo’s Child</td>\n",
       "      <td>Tall Stories</td>\n",
       "      <td>★★★</td>\n",
       "      <td>Alexandra Palace,Althea Burey,Andy Shaw,Axel S...</td>\n",
       "      <td>\\nIt is fair to say that I’m a bit older than ...</td>\n",
       "      <td>NaN</td>\n",
       "      <td>NaN</td>\n",
       "      <td>NaN</td>\n",
       "      <td>NaN</td>\n",
       "      <td>NaN</td>\n",
       "      <td>NaN</td>\n",
       "      <td>NaN</td>\n",
       "    </tr>\n",
       "  </tbody>\n",
       "</table>\n",
       "</div>"
      ],
      "text/plain": [
       "           Newspaper                 Date           Reviewer  \\\n",
       "0  A YOUNGER THEATER  2020-11-12 00:00:00  Jessica Handscomb   \n",
       "1  A YOUNGER THEATER  2020-10-12 00:00:00  Jessica Handscomb   \n",
       "2  A YOUNGER THEATER  2020-08-12 00:00:00       Olivia Kiely   \n",
       "\n",
       "                  Title              Theatre Rating  \\\n",
       "0       The Dumb Waiter    Hampstead Theatre   ★★★★   \n",
       "1              Mr Stink  Chickenshed Theatre    ★★★   \n",
       "2  The Gruffalo’s Child         Tall Stories    ★★★   \n",
       "\n",
       "                                            Keywords  \\\n",
       "0  Alec Newman,Alice Hamilton,Harold Pinter,James...   \n",
       "1  Belinda McGuirk,Bethany Hamlin,Bradley Davis,C...   \n",
       "2  Alexandra Palace,Althea Burey,Andy Shaw,Axel S...   \n",
       "\n",
       "                                              Review Author Opening Closing  \\\n",
       "0  \\nI think it’s fair to say that 2020 has been ...    NaN     NaN     NaN   \n",
       "1  \\nDavid Walliams is not my favourite children’...    NaN     NaN     NaN   \n",
       "2  \\nIt is fair to say that I’m a bit older than ...    NaN     NaN     NaN   \n",
       "\n",
       "  Director Categories Theatre  Reviewer.1  \n",
       "0      NaN        NaN      NaN        NaN  \n",
       "1      NaN        NaN      NaN        NaN  \n",
       "2      NaN        NaN      NaN        NaN  "
      ]
     },
     "execution_count": 18,
     "metadata": {},
     "output_type": "execute_result"
    }
   ],
   "source": [
    "df_corpus_II_v1 = pd.read_csv('../Corpus II/20201221_Corpus_II_v1.csv')\n",
    "df_corpus_II_v1 = df_corpus_II_v1.loc[:, ~df_corpus_II_v1.columns.str.contains('^Unnamed')]\n",
    "df_corpus_II_v1.head(3)"
   ]
  },
  {
   "cell_type": "markdown",
   "metadata": {},
   "source": [
    "# Corpus I Clean-up"
   ]
  },
  {
   "cell_type": "code",
   "execution_count": 23,
   "metadata": {},
   "outputs": [
    {
     "data": {
      "text/html": [
       "<div>\n",
       "<style scoped>\n",
       "    .dataframe tbody tr th:only-of-type {\n",
       "        vertical-align: middle;\n",
       "    }\n",
       "\n",
       "    .dataframe tbody tr th {\n",
       "        vertical-align: top;\n",
       "    }\n",
       "\n",
       "    .dataframe thead th {\n",
       "        text-align: right;\n",
       "    }\n",
       "</style>\n",
       "<table border=\"1\" class=\"dataframe\">\n",
       "  <thead>\n",
       "    <tr style=\"text-align: right;\">\n",
       "      <th></th>\n",
       "      <th>Newspaper</th>\n",
       "      <th>Date</th>\n",
       "      <th>Reviewer</th>\n",
       "      <th>Title</th>\n",
       "      <th>Review</th>\n",
       "      <th>Author</th>\n",
       "      <th>Theatre</th>\n",
       "      <th>Opening</th>\n",
       "      <th>Closing</th>\n",
       "      <th>Director</th>\n",
       "      <th>Review_clean</th>\n",
       "      <th>Review_no_stopword</th>\n",
       "    </tr>\n",
       "  </thead>\n",
       "  <tbody>\n",
       "    <tr>\n",
       "      <th>0</th>\n",
       "      <td>﻿﻿THE TIMES</td>\n",
       "      <td>2010-06-01</td>\n",
       "      <td>NaN</td>\n",
       "      <td>NaN</td>\n",
       "      <td>Benedict Nightingale This dinky little musical...</td>\n",
       "      <td>NaN</td>\n",
       "      <td>8.1.10</td>\n",
       "      <td>NaN</td>\n",
       "      <td>NaN</td>\n",
       "      <td>NaN</td>\n",
       "      <td>benedict nightingale this dinky little musical...</td>\n",
       "      <td>benedict nightingale dinky little musical spec...</td>\n",
       "    </tr>\n",
       "    <tr>\n",
       "      <th>1</th>\n",
       "      <td>GUARDIAN</td>\n",
       "      <td>2010-07-01</td>\n",
       "      <td>Michael Billington</td>\n",
       "      <td>NaN</td>\n",
       "      <td>Sam Walters clearly has a soft spot for this ...</td>\n",
       "      <td>NaN</td>\n",
       "      <td>8.1.10</td>\n",
       "      <td>NaN</td>\n",
       "      <td>NaN</td>\n",
       "      <td>NaN</td>\n",
       "      <td>sam walters clearly has a soft spot for this ...</td>\n",
       "      <td>sam walters clearly soft spot toothless musica...</td>\n",
       "    </tr>\n",
       "    <tr>\n",
       "      <th>2</th>\n",
       "      <td>DAILY TELEGRAPH</td>\n",
       "      <td>2010-07-01</td>\n",
       "      <td>Charles Spencer</td>\n",
       "      <td>NaN</td>\n",
       "      <td>Unbelievably, The Lady or the Tiger is one of...</td>\n",
       "      <td>NaN</td>\n",
       "      <td>8.1.10</td>\n",
       "      <td>NaN</td>\n",
       "      <td>NaN</td>\n",
       "      <td>NaN</td>\n",
       "      <td>unbelievably the lady or the tiger is one of ...</td>\n",
       "      <td>unbelievably lady tiger one orange tree’s bigg...</td>\n",
       "    </tr>\n",
       "  </tbody>\n",
       "</table>\n",
       "</div>"
      ],
      "text/plain": [
       "         Newspaper        Date             Reviewer Title  \\\n",
       "0      ﻿﻿THE TIMES  2010-06-01                  NaN   NaN   \n",
       "1         GUARDIAN  2010-07-01  Michael Billington    NaN   \n",
       "2  DAILY TELEGRAPH  2010-07-01     Charles Spencer    NaN   \n",
       "\n",
       "                                              Review  Author Theatre Opening  \\\n",
       "0  Benedict Nightingale This dinky little musical...     NaN  8.1.10     NaN   \n",
       "1   Sam Walters clearly has a soft spot for this ...     NaN  8.1.10     NaN   \n",
       "2   Unbelievably, The Lady or the Tiger is one of...     NaN  8.1.10     NaN   \n",
       "\n",
       "  Closing  Director                                       Review_clean  \\\n",
       "0     NaN       NaN  benedict nightingale this dinky little musical...   \n",
       "1     NaN       NaN   sam walters clearly has a soft spot for this ...   \n",
       "2     NaN       NaN   unbelievably the lady or the tiger is one of ...   \n",
       "\n",
       "                                  Review_no_stopword  \n",
       "0  benedict nightingale dinky little musical spec...  \n",
       "1  sam walters clearly soft spot toothless musica...  \n",
       "2  unbelievably lady tiger one orange tree’s bigg...  "
      ]
     },
     "execution_count": 23,
     "metadata": {},
     "output_type": "execute_result"
    }
   ],
   "source": [
    "# Corpus I\n",
    "Corpus_I_review_clean = []\n",
    "Corpus_I_review_nostop = []\n",
    "for k in df_corpus_I_v1.axes[0]: \n",
    "    if pd.isna(df_corpus_I_v1['Review'][k]):\n",
    "        Corpus_I_review_clean.append(None)\n",
    "        Corpus_I_review_nostop.append(None)\n",
    "    else: \n",
    "        Corpus_I_review_clean.append(nettoyage(df_corpus_I_v1['Review'][k]))\n",
    "        Corpus_I_review_nostop.append(nettoyage_stopwords(Corpus_I_review_clean[-1]))\n",
    "df_corpus_I_v1['Review_clean'] = Corpus_I_review_clean\n",
    "df_corpus_I_v1['Review_no_stopword'] = Corpus_I_review_nostop\n",
    "df_corpus_I_v1.head(3)"
   ]
  },
  {
   "cell_type": "markdown",
   "metadata": {},
   "source": [
    "# Corpus II Clean-up"
   ]
  },
  {
   "cell_type": "code",
   "execution_count": 24,
   "metadata": {},
   "outputs": [
    {
     "data": {
      "text/html": [
       "<div>\n",
       "<style scoped>\n",
       "    .dataframe tbody tr th:only-of-type {\n",
       "        vertical-align: middle;\n",
       "    }\n",
       "\n",
       "    .dataframe tbody tr th {\n",
       "        vertical-align: top;\n",
       "    }\n",
       "\n",
       "    .dataframe thead th {\n",
       "        text-align: right;\n",
       "    }\n",
       "</style>\n",
       "<table border=\"1\" class=\"dataframe\">\n",
       "  <thead>\n",
       "    <tr style=\"text-align: right;\">\n",
       "      <th></th>\n",
       "      <th>Newspaper</th>\n",
       "      <th>Date</th>\n",
       "      <th>Reviewer</th>\n",
       "      <th>Title</th>\n",
       "      <th>Theatre</th>\n",
       "      <th>Rating</th>\n",
       "      <th>Keywords</th>\n",
       "      <th>Review</th>\n",
       "      <th>Author</th>\n",
       "      <th>Opening</th>\n",
       "      <th>Closing</th>\n",
       "      <th>Director</th>\n",
       "      <th>Categories</th>\n",
       "      <th>Theatre</th>\n",
       "      <th>Reviewer.1</th>\n",
       "      <th>Review_clean</th>\n",
       "      <th>Review_no_stopword</th>\n",
       "    </tr>\n",
       "  </thead>\n",
       "  <tbody>\n",
       "    <tr>\n",
       "      <th>0</th>\n",
       "      <td>A YOUNGER THEATER</td>\n",
       "      <td>2020-11-12 00:00:00</td>\n",
       "      <td>Jessica Handscomb</td>\n",
       "      <td>The Dumb Waiter</td>\n",
       "      <td>Hampstead Theatre</td>\n",
       "      <td>★★★★</td>\n",
       "      <td>Alec Newman,Alice Hamilton,Harold Pinter,James...</td>\n",
       "      <td>\\nI think it’s fair to say that 2020 has been ...</td>\n",
       "      <td>NaN</td>\n",
       "      <td>NaN</td>\n",
       "      <td>NaN</td>\n",
       "      <td>NaN</td>\n",
       "      <td>NaN</td>\n",
       "      <td>NaN</td>\n",
       "      <td>NaN</td>\n",
       "      <td>i think it’s fair to say that 2020 has been m...</td>\n",
       "      <td>think it’s fair say 2020 mostly horrendous esp...</td>\n",
       "    </tr>\n",
       "    <tr>\n",
       "      <th>1</th>\n",
       "      <td>A YOUNGER THEATER</td>\n",
       "      <td>2020-10-12 00:00:00</td>\n",
       "      <td>Jessica Handscomb</td>\n",
       "      <td>Mr Stink</td>\n",
       "      <td>Chickenshed Theatre</td>\n",
       "      <td>★★★</td>\n",
       "      <td>Belinda McGuirk,Bethany Hamlin,Bradley Davis,C...</td>\n",
       "      <td>\\nDavid Walliams is not my favourite children’...</td>\n",
       "      <td>NaN</td>\n",
       "      <td>NaN</td>\n",
       "      <td>NaN</td>\n",
       "      <td>NaN</td>\n",
       "      <td>NaN</td>\n",
       "      <td>NaN</td>\n",
       "      <td>NaN</td>\n",
       "      <td>david walliams is not my favourite children’s...</td>\n",
       "      <td>david walliams favourite children’s author i’d...</td>\n",
       "    </tr>\n",
       "    <tr>\n",
       "      <th>2</th>\n",
       "      <td>A YOUNGER THEATER</td>\n",
       "      <td>2020-08-12 00:00:00</td>\n",
       "      <td>Olivia Kiely</td>\n",
       "      <td>The Gruffalo’s Child</td>\n",
       "      <td>Tall Stories</td>\n",
       "      <td>★★★</td>\n",
       "      <td>Alexandra Palace,Althea Burey,Andy Shaw,Axel S...</td>\n",
       "      <td>\\nIt is fair to say that I’m a bit older than ...</td>\n",
       "      <td>NaN</td>\n",
       "      <td>NaN</td>\n",
       "      <td>NaN</td>\n",
       "      <td>NaN</td>\n",
       "      <td>NaN</td>\n",
       "      <td>NaN</td>\n",
       "      <td>NaN</td>\n",
       "      <td>it is fair to say that i’m a bit older than t...</td>\n",
       "      <td>fair say i’m bit older gruffalo’s child’s targ...</td>\n",
       "    </tr>\n",
       "  </tbody>\n",
       "</table>\n",
       "</div>"
      ],
      "text/plain": [
       "           Newspaper                 Date           Reviewer  \\\n",
       "0  A YOUNGER THEATER  2020-11-12 00:00:00  Jessica Handscomb   \n",
       "1  A YOUNGER THEATER  2020-10-12 00:00:00  Jessica Handscomb   \n",
       "2  A YOUNGER THEATER  2020-08-12 00:00:00       Olivia Kiely   \n",
       "\n",
       "                  Title              Theatre Rating  \\\n",
       "0       The Dumb Waiter    Hampstead Theatre   ★★★★   \n",
       "1              Mr Stink  Chickenshed Theatre    ★★★   \n",
       "2  The Gruffalo’s Child         Tall Stories    ★★★   \n",
       "\n",
       "                                            Keywords  \\\n",
       "0  Alec Newman,Alice Hamilton,Harold Pinter,James...   \n",
       "1  Belinda McGuirk,Bethany Hamlin,Bradley Davis,C...   \n",
       "2  Alexandra Palace,Althea Burey,Andy Shaw,Axel S...   \n",
       "\n",
       "                                              Review Author Opening Closing  \\\n",
       "0  \\nI think it’s fair to say that 2020 has been ...    NaN     NaN     NaN   \n",
       "1  \\nDavid Walliams is not my favourite children’...    NaN     NaN     NaN   \n",
       "2  \\nIt is fair to say that I’m a bit older than ...    NaN     NaN     NaN   \n",
       "\n",
       "  Director Categories Theatre  Reviewer.1  \\\n",
       "0      NaN        NaN      NaN        NaN   \n",
       "1      NaN        NaN      NaN        NaN   \n",
       "2      NaN        NaN      NaN        NaN   \n",
       "\n",
       "                                        Review_clean  \\\n",
       "0   i think it’s fair to say that 2020 has been m...   \n",
       "1   david walliams is not my favourite children’s...   \n",
       "2   it is fair to say that i’m a bit older than t...   \n",
       "\n",
       "                                  Review_no_stopword  \n",
       "0  think it’s fair say 2020 mostly horrendous esp...  \n",
       "1  david walliams favourite children’s author i’d...  \n",
       "2  fair say i’m bit older gruffalo’s child’s targ...  "
      ]
     },
     "execution_count": 24,
     "metadata": {},
     "output_type": "execute_result"
    }
   ],
   "source": [
    "# Corpus II\n",
    "\n",
    "Corpus_II_review_clean = []\n",
    "Corpus_II_review_nostop = []\n",
    "for k in df_corpus_II_v1.axes[0]: \n",
    "    if pd.isna(df_corpus_II_v1['Review'][k]):\n",
    "        Corpus_II_review_clean.append(None)\n",
    "        Corpus_II_review_nostop.append(None)\n",
    "    else: \n",
    "        Corpus_II_review_clean.append(nettoyage(df_corpus_II_v1['Review'][k]))\n",
    "        Corpus_II_review_nostop.append(nettoyage_stopwords(Corpus_II_review_clean[-1]))\n",
    "df_corpus_II_v1['Review_clean'] = Corpus_II_review_clean\n",
    "df_corpus_II_v1['Review_no_stopword'] = Corpus_II_review_nostop\n",
    "df_corpus_II_v1.head(3)"
   ]
  },
  {
   "cell_type": "code",
   "execution_count": 26,
   "metadata": {},
   "outputs": [],
   "source": [
    "# Comparaisons : \n",
    "\n",
    "Corpus_I_nb_mots = []\n",
    "Corpus_I_nb_mots_nostop = []\n",
    "Corpus_I_nb_phrases = []\n",
    "for k in df_corpus_I_v1.axes[0]: \n",
    "    if pd.isna(df_corpus_I_v1['Review'][k])==False:\n",
    "        Corpus_I_nb_mots.append(count_words(df_corpus_I_v1['Review_clean'][k]))\n",
    "        Corpus_I_nb_mots_nostop.append(count_words(df_corpus_I_v1['Review_no_stopword'][k]))\n",
    "        Corpus_I_nb_phrases.append(count_sentences(df_corpus_I_v1['Review_clean'][k]))\n",
    "    \n",
    "Corpus_II_nb_mots = []\n",
    "Corpus_II_nb_mots_nostop = []\n",
    "Corpus_II_nb_phrases = []\n",
    "for k in df_corpus_II_v1.axes[0]: \n",
    "    if pd.isna(df_corpus_II_v1['Review'][k])==False:\n",
    "        Corpus_II_nb_mots.append(count_words(df_corpus_II_v1['Review_clean'][k]))\n",
    "        Corpus_II_nb_mots_nostop.append(count_words(df_corpus_II_v1['Review_no_stopword'][k]))\n",
    "        Corpus_II_nb_phrases.append(count_sentences(df_corpus_II_v1['Review_clean'][k]))\n",
    "\n",
    "\n"
   ]
  },
  {
   "cell_type": "code",
   "execution_count": 27,
   "metadata": {},
   "outputs": [
    {
     "data": {
      "text/plain": [
       "Text(0.5, 1.0, 'Number of Words in Reviews')"
      ]
     },
     "execution_count": 27,
     "metadata": {},
     "output_type": "execute_result"
    },
    {
     "data": {
      "image/png": "[encoded data removed]",
      "text/plain": [
       "<Figure size 432x288 with 1 Axes>"
      ]
     },
     "metadata": {
      "needs_background": "light"
     },
     "output_type": "display_data"
    }
   ],
   "source": [
    "pyplot.boxplot([Corpus_I_nb_mots,Corpus_II_nb_mots])\n",
    "pyplot.gca().xaxis.set_ticklabels([\"Corpus_I\", \"Corpus_II\"])\n",
    "pyplot.title('Number of Words in Reviews')"
   ]
  },
  {
   "cell_type": "code",
   "execution_count": 28,
   "metadata": {},
   "outputs": [
    {
     "data": {
      "text/plain": [
       "Text(0.5, 1.0, 'Number of Words in Reviews')"
      ]
     },
     "execution_count": 28,
     "metadata": {},
     "output_type": "execute_result"
    },
    {
     "data": {
      "image/png": "[encoded data removed]",
      "text/plain": [
       "<Figure size 432x288 with 1 Axes>"
      ]
     },
     "metadata": {
      "needs_background": "light"
     },
     "output_type": "display_data"
    }
   ],
   "source": [
    "pyplot.boxplot([Corpus_I_nb_mots,Corpus_II_nb_mots],showfliers=False)\n",
    "pyplot.gca().xaxis.set_ticklabels([\"Corpus_I\", \"Corpus_II\"])\n",
    "pyplot.title('Number of Words in Reviews')"
   ]
  },
  {
   "cell_type": "code",
   "execution_count": 29,
   "metadata": {},
   "outputs": [
    {
     "data": {
      "text/plain": [
       "Text(0.5, 1.0, 'Number of Words in Reviews (Excluding Stopwords)')"
      ]
     },
     "execution_count": 29,
     "metadata": {},
     "output_type": "execute_result"
    },
    {
     "data": {
      "image/png": "[encoded data removed]",
      "text/plain": [
       "<Figure size 432x288 with 1 Axes>"
      ]
     },
     "metadata": {
      "needs_background": "light"
     },
     "output_type": "display_data"
    }
   ],
   "source": [
    "pyplot.boxplot([Corpus_I_nb_mots_nostop,Corpus_II_nb_mots_nostop])\n",
    "pyplot.gca().xaxis.set_ticklabels([\"Corpus_I\", \"Corpus_II\"])\n",
    "pyplot.title('Number of Words in Reviews (Excluding Stopwords)')"
   ]
  },
  {
   "cell_type": "code",
   "execution_count": 30,
   "metadata": {},
   "outputs": [
    {
     "data": {
      "text/plain": [
       "Text(0.5, 1.0, 'Number of Words in Reviews (Excluding Stopwords)')"
      ]
     },
     "execution_count": 30,
     "metadata": {},
     "output_type": "execute_result"
    },
    {
     "data": {
      "image/png": "[encoded data removed]",
      "text/plain": [
       "<Figure size 432x288 with 1 Axes>"
      ]
     },
     "metadata": {
      "needs_background": "light"
     },
     "output_type": "display_data"
    }
   ],
   "source": [
    "pyplot.boxplot([Corpus_I_nb_mots_nostop,Corpus_II_nb_mots_nostop],showfliers=False)\n",
    "pyplot.gca().xaxis.set_ticklabels([\"Corpus_I\", \"Corpus_II\"])\n",
    "pyplot.title('Number of Words in Reviews (Excluding Stopwords)')"
   ]
  },
  {
   "cell_type": "code",
   "execution_count": 31,
   "metadata": {},
   "outputs": [
    {
     "data": {
      "text/plain": [
       "Text(0.5, 1.0, 'Number of Sentences in Reviews')"
      ]
     },
     "execution_count": 31,
     "metadata": {},
     "output_type": "execute_result"
    },
    {
     "data": {
      "image/png": "[encoded data removed]",
      "text/plain": [
       "<Figure size 432x288 with 1 Axes>"
      ]
     },
     "metadata": {
      "needs_background": "light"
     },
     "output_type": "display_data"
    }
   ],
   "source": [
    "pyplot.boxplot([Corpus_I_nb_phrases,Corpus_II_nb_phrases])\n",
    "pyplot.gca().xaxis.set_ticklabels([\"Corpus_I\", \"Corpus_II\"])\n",
    "pyplot.title('Number of Sentences in Reviews')"
   ]
  },
  {
   "cell_type": "code",
   "execution_count": 32,
   "metadata": {},
   "outputs": [
    {
     "data": {
      "text/plain": [
       "Text(0.5, 1.0, 'Number of Sentences in Reviews')"
      ]
     },
     "execution_count": 32,
     "metadata": {},
     "output_type": "execute_result"
    },
    {
     "data": {
      "image/png": "[encoded data removed]",
      "text/plain": [
       "<Figure size 432x288 with 1 Axes>"
      ]
     },
     "metadata": {
      "needs_background": "light"
     },
     "output_type": "display_data"
    }
   ],
   "source": [
    "pyplot.boxplot([Corpus_I_nb_phrases,Corpus_II_nb_phrases],showfliers=False)\n",
    "pyplot.gca().xaxis.set_ticklabels([\"Corpus_I\", \"Corpus_II\"])\n",
    "pyplot.title('Number of Sentences in Reviews')"
   ]
  },
  {
   "cell_type": "code",
   "execution_count": 46,
   "metadata": {},
   "outputs": [],
   "source": [
    "# More stats : \n",
    "\n",
    "Corpus_I_mot_min = []\n",
    "Corpus_I_mot_max = []\n",
    "Corpus_I_mot_moy = []\n",
    "Corpus_I_mot_med = []\n",
    "Corpus_I_phr_min = []\n",
    "Corpus_I_phr_max = []\n",
    "Corpus_I_phr_moy = []\n",
    "Corpus_I_phr_med = [] \n",
    "\n",
    "for k in df_corpus_I_v1.axes[0]:\n",
    "    if pd.isna(df_corpus_I_v1['Review'][k])==False:\n",
    "        Corpus_I_mot_min.append(longueur_mots(df_corpus_I_v1['Review_no_stopword'][k])[0])\n",
    "        Corpus_I_mot_max.append(longueur_mots(df_corpus_I_v1['Review_no_stopword'][k])[1])\n",
    "        Corpus_I_mot_moy.append(longueur_mots(df_corpus_I_v1['Review_no_stopword'][k])[2])\n",
    "        Corpus_I_mot_med.append(longueur_mots(df_corpus_I_v1['Review_no_stopword'][k])[3])\n",
    "        Corpus_I_phr_min.append(longueur_phrases(df_corpus_I_v1['Review_no_stopword'][k])[0])\n",
    "        Corpus_I_phr_max.append(longueur_phrases(df_corpus_I_v1['Review_no_stopword'][k])[1])\n",
    "        Corpus_I_phr_moy.append(longueur_phrases(df_corpus_I_v1['Review_no_stopword'][k])[2])\n",
    "        Corpus_I_phr_med.append(longueur_phrases(df_corpus_I_v1['Review_no_stopword'][k])[3])\n",
    "\n",
    "Corpus_II_mot_min = []\n",
    "Corpus_II_mot_max = []\n",
    "Corpus_II_mot_moy = []\n",
    "Corpus_II_mot_med = []\n",
    "Corpus_II_phr_min = []\n",
    "Corpus_II_phr_max = []\n",
    "Corpus_II_phr_moy = []\n",
    "Corpus_II_phr_med = [] \n",
    "\n",
    "for k in df_corpus_II_v1.axes[0]:\n",
    "    if pd.isna(df_corpus_II_v1['Review'][k])==False:\n",
    "        if df_corpus_II_v1['Review_no_stopword'][k] != '':\n",
    "            if df_corpus_II_v1['Review_no_stopword'][k] != '.':\n",
    "                Corpus_II_mot_min.append(longueur_mots(df_corpus_II_v1['Review_no_stopword'][k])[0])\n",
    "                Corpus_II_mot_max.append(longueur_mots(df_corpus_II_v1['Review_no_stopword'][k])[1])\n",
    "                Corpus_II_mot_moy.append(longueur_mots(df_corpus_II_v1['Review_no_stopword'][k])[2])\n",
    "                Corpus_II_mot_med.append(longueur_mots(df_corpus_II_v1['Review_no_stopword'][k])[3])\n",
    "                Corpus_II_phr_min.append(longueur_phrases(df_corpus_II_v1['Review_no_stopword'][k])[0])\n",
    "                Corpus_II_phr_max.append(longueur_phrases(df_corpus_II_v1['Review_no_stopword'][k])[1])\n",
    "                Corpus_II_phr_moy.append(longueur_phrases(df_corpus_II_v1['Review_no_stopword'][k])[2])\n",
    "                Corpus_II_phr_med.append(longueur_phrases(df_corpus_II_v1['Review_no_stopword'][k])[3])\n",
    "\n"
   ]
  },
  {
   "cell_type": "code",
   "execution_count": 47,
   "metadata": {},
   "outputs": [
    {
     "data": {
      "text/plain": [
       "Text(0.5, 1.0, 'Minimum Word Length in Reviews')"
      ]
     },
     "execution_count": 47,
     "metadata": {},
     "output_type": "execute_result"
    },
    {
     "data": {
      "image/png": "[encoded data removed]",
      "text/plain": [
       "<Figure size 432x288 with 1 Axes>"
      ]
     },
     "metadata": {
      "needs_background": "light"
     },
     "output_type": "display_data"
    }
   ],
   "source": [
    "pyplot.boxplot([Corpus_I_mot_min,Corpus_II_mot_min])\n",
    "pyplot.gca().xaxis.set_ticklabels([\"Corpus_I\", \"Corpus_II\"])\n",
    "pyplot.title('Minimum Word Length in Reviews')"
   ]
  },
  {
   "cell_type": "code",
   "execution_count": 48,
   "metadata": {},
   "outputs": [
    {
     "data": {
      "text/plain": [
       "Text(0.5, 1.0, 'Minimum Word Length in Reviews')"
      ]
     },
     "execution_count": 48,
     "metadata": {},
     "output_type": "execute_result"
    },
    {
     "data": {
      "image/png": "[encoded data removed]",
      "text/plain": [
       "<Figure size 432x288 with 1 Axes>"
      ]
     },
     "metadata": {
      "needs_background": "light"
     },
     "output_type": "display_data"
    }
   ],
   "source": [
    "pyplot.boxplot([Corpus_I_mot_min,Corpus_II_mot_min],showfliers=False)\n",
    "pyplot.gca().xaxis.set_ticklabels([\"Corpus_I\", \"Corpus_II\"])\n",
    "pyplot.title('Minimum Word Length in Reviews')"
   ]
  },
  {
   "cell_type": "code",
   "execution_count": 49,
   "metadata": {},
   "outputs": [
    {
     "data": {
      "text/plain": [
       "Text(0.5, 1.0, 'Maximum Word Length in Reviews')"
      ]
     },
     "execution_count": 49,
     "metadata": {},
     "output_type": "execute_result"
    },
    {
     "data": {
      "image/png": "[encoded data removed]",
      "text/plain": [
       "<Figure size 432x288 with 1 Axes>"
      ]
     },
     "metadata": {
      "needs_background": "light"
     },
     "output_type": "display_data"
    }
   ],
   "source": [
    "pyplot.boxplot([Corpus_I_mot_max,Corpus_II_mot_max])\n",
    "pyplot.gca().xaxis.set_ticklabels([\"Corpus_I\", \"Corpus_II\"])\n",
    "pyplot.title('Maximum Word Length in Reviews')"
   ]
  },
  {
   "cell_type": "code",
   "execution_count": 50,
   "metadata": {},
   "outputs": [
    {
     "data": {
      "text/plain": [
       "Text(0.5, 1.0, 'Maximum Word Length in Reviews')"
      ]
     },
     "execution_count": 50,
     "metadata": {},
     "output_type": "execute_result"
    },
    {
     "data": {
      "image/png": "[encoded data removed]",
      "text/plain": [
       "<Figure size 432x288 with 1 Axes>"
      ]
     },
     "metadata": {
      "needs_background": "light"
     },
     "output_type": "display_data"
    }
   ],
   "source": [
    "pyplot.boxplot([Corpus_I_mot_max,Corpus_II_mot_max],showfliers=False)\n",
    "pyplot.gca().xaxis.set_ticklabels([\"Corpus_I\", \"Corpus_II\"])\n",
    "pyplot.title('Maximum Word Length in Reviews')"
   ]
  },
  {
   "cell_type": "code",
   "execution_count": 51,
   "metadata": {},
   "outputs": [
    {
     "data": {
      "text/plain": [
       "Text(0.5, 1.0, 'Average Word Length in Reviews')"
      ]
     },
     "execution_count": 51,
     "metadata": {},
     "output_type": "execute_result"
    },
    {
     "data": {
      "image/png": "[encoded data removed]",
      "text/plain": [
       "<Figure size 432x288 with 1 Axes>"
      ]
     },
     "metadata": {
      "needs_background": "light"
     },
     "output_type": "display_data"
    }
   ],
   "source": [
    "pyplot.boxplot([Corpus_I_mot_moy,Corpus_II_mot_moy])\n",
    "pyplot.gca().xaxis.set_ticklabels([\"Corpus_I\", \"Corpus_II\"])\n",
    "pyplot.title('Average Word Length in Reviews')"
   ]
  },
  {
   "cell_type": "code",
   "execution_count": 52,
   "metadata": {},
   "outputs": [
    {
     "data": {
      "text/plain": [
       "Text(0.5, 1.0, 'Average Word Length in Reviews')"
      ]
     },
     "execution_count": 52,
     "metadata": {},
     "output_type": "execute_result"
    },
    {
     "data": {
      "image/png": "[encoded data removed]",
      "text/plain": [
       "<Figure size 432x288 with 1 Axes>"
      ]
     },
     "metadata": {
      "needs_background": "light"
     },
     "output_type": "display_data"
    }
   ],
   "source": [
    "pyplot.boxplot([Corpus_I_mot_moy,Corpus_II_mot_moy],showfliers=False)\n",
    "pyplot.gca().xaxis.set_ticklabels([\"Corpus_I\", \"Corpus_II\"])\n",
    "pyplot.title('Average Word Length in Reviews')"
   ]
  },
  {
   "cell_type": "code",
   "execution_count": 53,
   "metadata": {},
   "outputs": [
    {
     "data": {
      "text/plain": [
       "Text(0.5, 1.0, 'Median Word Length in Reviews')"
      ]
     },
     "execution_count": 53,
     "metadata": {},
     "output_type": "execute_result"
    },
    {
     "data": {
      "image/png": "[encoded data removed]",
      "text/plain": [
       "<Figure size 432x288 with 1 Axes>"
      ]
     },
     "metadata": {
      "needs_background": "light"
     },
     "output_type": "display_data"
    }
   ],
   "source": [
    "pyplot.boxplot([Corpus_I_mot_med,Corpus_II_mot_med])\n",
    "pyplot.gca().xaxis.set_ticklabels([\"Corpus_I\", \"Corpus_II\"])\n",
    "pyplot.title('Median Word Length in Reviews')"
   ]
  },
  {
   "cell_type": "code",
   "execution_count": 54,
   "metadata": {},
   "outputs": [
    {
     "data": {
      "text/plain": [
       "Text(0.5, 1.0, 'Median Word Length in Reviews')"
      ]
     },
     "execution_count": 54,
     "metadata": {},
     "output_type": "execute_result"
    },
    {
     "data": {
      "image/png": "[encoded data removed]",
      "text/plain": [
       "<Figure size 432x288 with 1 Axes>"
      ]
     },
     "metadata": {
      "needs_background": "light"
     },
     "output_type": "display_data"
    }
   ],
   "source": [
    "pyplot.boxplot([Corpus_I_mot_med,Corpus_II_mot_med],showfliers=False)\n",
    "pyplot.gca().xaxis.set_ticklabels([\"Corpus_I\", \"Corpus_II\"])\n",
    "pyplot.title('Median Word Length in Reviews')"
   ]
  },
  {
   "cell_type": "code",
   "execution_count": 55,
   "metadata": {},
   "outputs": [
    {
     "data": {
      "text/plain": [
       "Text(0.5, 1.0, 'Minimum Sentence Length in Reviews')"
      ]
     },
     "execution_count": 55,
     "metadata": {},
     "output_type": "execute_result"
    },
    {
     "data": {
      "image/png": "[encoded data removed]",
      "text/plain": [
       "<Figure size 432x288 with 1 Axes>"
      ]
     },
     "metadata": {
      "needs_background": "light"
     },
     "output_type": "display_data"
    }
   ],
   "source": [
    "pyplot.boxplot([Corpus_I_phr_min,Corpus_II_phr_min])\n",
    "pyplot.gca().xaxis.set_ticklabels([\"Corpus_I\", \"Corpus_II\"])\n",
    "pyplot.title('Minimum Sentence Length in Reviews')"
   ]
  },
  {
   "cell_type": "code",
   "execution_count": 56,
   "metadata": {},
   "outputs": [
    {
     "data": {
      "text/plain": [
       "Text(0.5, 1.0, 'Minimum Sentence Length in Reviews')"
      ]
     },
     "execution_count": 56,
     "metadata": {},
     "output_type": "execute_result"
    },
    {
     "data": {
      "image/png": "[encoded data removed]",
      "text/plain": [
       "<Figure size 432x288 with 1 Axes>"
      ]
     },
     "metadata": {
      "needs_background": "light"
     },
     "output_type": "display_data"
    }
   ],
   "source": [
    "pyplot.boxplot([Corpus_I_phr_min,Corpus_II_phr_min],showfliers=False)\n",
    "pyplot.gca().xaxis.set_ticklabels([\"Corpus_I\", \"Corpus_II\"])\n",
    "pyplot.title('Minimum Sentence Length in Reviews')"
   ]
  },
  {
   "cell_type": "code",
   "execution_count": 57,
   "metadata": {},
   "outputs": [
    {
     "data": {
      "text/plain": [
       "Text(0.5, 1.0, 'Maximum Sentence Length in Reviews')"
      ]
     },
     "execution_count": 57,
     "metadata": {},
     "output_type": "execute_result"
    },
    {
     "data": {
      "image/png": "[encoded data removed]",
      "text/plain": [
       "<Figure size 432x288 with 1 Axes>"
      ]
     },
     "metadata": {
      "needs_background": "light"
     },
     "output_type": "display_data"
    }
   ],
   "source": [
    "pyplot.boxplot([Corpus_I_phr_max,Corpus_II_phr_max])\n",
    "pyplot.gca().xaxis.set_ticklabels([\"Corpus_I\", \"Corpus_II\"])\n",
    "pyplot.title('Maximum Sentence Length in Reviews')"
   ]
  },
  {
   "cell_type": "code",
   "execution_count": 58,
   "metadata": {},
   "outputs": [
    {
     "data": {
      "text/plain": [
       "Text(0.5, 1.0, 'Maximum Sentence Length in Reviews')"
      ]
     },
     "execution_count": 58,
     "metadata": {},
     "output_type": "execute_result"
    },
    {
     "data": {
      "image/png": "[encoded data removed]",
      "text/plain": [
       "<Figure size 432x288 with 1 Axes>"
      ]
     },
     "metadata": {
      "needs_background": "light"
     },
     "output_type": "display_data"
    }
   ],
   "source": [
    "pyplot.boxplot([Corpus_I_phr_max,Corpus_II_phr_max],showfliers=False)\n",
    "pyplot.gca().xaxis.set_ticklabels([\"Corpus_I\", \"Corpus_II\"])\n",
    "pyplot.title('Maximum Sentence Length in Reviews')"
   ]
  },
  {
   "cell_type": "code",
   "execution_count": 59,
   "metadata": {},
   "outputs": [
    {
     "data": {
      "text/plain": [
       "Text(0.5, 1.0, 'Average Sentence Length in Reviews')"
      ]
     },
     "execution_count": 59,
     "metadata": {},
     "output_type": "execute_result"
    },
    {
     "data": {
      "image/png": "[encoded data removed]",
      "text/plain": [
       "<Figure size 432x288 with 1 Axes>"
      ]
     },
     "metadata": {
      "needs_background": "light"
     },
     "output_type": "display_data"
    }
   ],
   "source": [
    "pyplot.boxplot([Corpus_I_phr_moy,Corpus_II_phr_moy])\n",
    "pyplot.gca().xaxis.set_ticklabels([\"Corpus_I\", \"Corpus_II\"])\n",
    "pyplot.title('Average Sentence Length in Reviews')"
   ]
  },
  {
   "cell_type": "code",
   "execution_count": 60,
   "metadata": {},
   "outputs": [
    {
     "data": {
      "text/plain": [
       "Text(0.5, 1.0, 'Average Sentence Length in Reviews')"
      ]
     },
     "execution_count": 60,
     "metadata": {},
     "output_type": "execute_result"
    },
    {
     "data": {
      "image/png": "[encoded data removed]",
      "text/plain": [
       "<Figure size 432x288 with 1 Axes>"
      ]
     },
     "metadata": {
      "needs_background": "light"
     },
     "output_type": "display_data"
    }
   ],
   "source": [
    "pyplot.boxplot([Corpus_I_phr_moy,Corpus_II_phr_moy],showfliers=False)\n",
    "pyplot.gca().xaxis.set_ticklabels([\"Corpus_I\", \"Corpus_II\"])\n",
    "pyplot.title('Average Sentence Length in Reviews')"
   ]
  },
  {
   "cell_type": "code",
   "execution_count": 61,
   "metadata": {},
   "outputs": [
    {
     "data": {
      "text/plain": [
       "Text(0.5, 1.0, 'Median Sentence Length in Reviews')"
      ]
     },
     "execution_count": 61,
     "metadata": {},
     "output_type": "execute_result"
    },
    {
     "data": {
      "image/png": "[encoded data removed]",
      "text/plain": [
       "<Figure size 432x288 with 1 Axes>"
      ]
     },
     "metadata": {
      "needs_background": "light"
     },
     "output_type": "display_data"
    }
   ],
   "source": [
    "pyplot.boxplot([Corpus_I_phr_med,Corpus_II_phr_med])\n",
    "pyplot.gca().xaxis.set_ticklabels([\"Corpus_I\", \"Corpus_II\"])\n",
    "pyplot.title('Median Sentence Length in Reviews')"
   ]
  },
  {
   "cell_type": "code",
   "execution_count": 62,
   "metadata": {},
   "outputs": [
    {
     "data": {
      "text/plain": [
       "Text(0.5, 1.0, 'Median Sentence Length in Reviews')"
      ]
     },
     "execution_count": 62,
     "metadata": {},
     "output_type": "execute_result"
    },
    {
     "data": {
      "image/png": "[encoded data removed]",
      "text/plain": [
       "<Figure size 432x288 with 1 Axes>"
      ]
     },
     "metadata": {
      "needs_background": "light"
     },
     "output_type": "display_data"
    }
   ],
   "source": [
    "pyplot.boxplot([Corpus_I_phr_med,Corpus_II_phr_med],showfliers=False)\n",
    "pyplot.gca().xaxis.set_ticklabels([\"Corpus_I\", \"Corpus_II\"])\n",
    "pyplot.title('Median Sentence Length in Reviews')"
   ]
  },
  {
   "cell_type": "code",
   "execution_count": 77,
   "metadata": {},
   "outputs": [],
   "source": [
    "\n",
    "Corpus_I_mots_uniques = []\n",
    "Corpus_I_mots_uniques_nostop = []\n",
    "Corpus_I_ratio_unique = []\n",
    "Corpus_I_ratio_unique_nostop = []\n",
    "i = 0\n",
    "for k in df_corpus_I_v1.axes[0]:\n",
    "    if pd.isna(df_corpus_I_v1['Review'][k])==False:\n",
    "        Corpus_I_mots_uniques.append(count_unique_words(df_corpus_I_v1['Review_clean'][k]))\n",
    "        Corpus_I_mots_uniques_nostop.append(count_unique_words(df_corpus_I_v1['Review_no_stopword'][k]))\n",
    "        Corpus_I_ratio_unique.append(Corpus_I_mots_uniques[-1]/Corpus_I_nb_mots[i])\n",
    "        Corpus_I_ratio_unique_nostop.append(Corpus_I_mots_uniques_nostop[-1]/Corpus_I_nb_mots_nostop[i])\n",
    "        i = i+1\n",
    "\n",
    "Corpus_II_mots_uniques = []\n",
    "Corpus_II_mots_uniques_nostop = []\n",
    "Corpus_II_ratio_unique = []\n",
    "Corpus_II_ratio_unique_nostop = []\n",
    "i = 0\n",
    "for k in df_corpus_II_v1.axes[0]:\n",
    "    if pd.isna(df_corpus_II_v1['Review'][k])==False:\n",
    "        if Corpus_II_nb_mots_nostop[i] != 0:\n",
    "            Corpus_II_mots_uniques.append(count_unique_words(df_corpus_II_v1['Review_clean'][k]))\n",
    "            Corpus_II_mots_uniques_nostop.append(count_unique_words(df_corpus_II_v1['Review_no_stopword'][k]))\n",
    "            Corpus_II_ratio_unique.append(Corpus_II_mots_uniques[-1]/Corpus_II_nb_mots[i])\n",
    "            Corpus_II_ratio_unique_nostop.append(Corpus_II_mots_uniques_nostop[-1]/Corpus_II_nb_mots_nostop[i])\n",
    "            i = i+1\n"
   ]
  },
  {
   "cell_type": "code",
   "execution_count": 78,
   "metadata": {},
   "outputs": [
    {
     "data": {
      "text/plain": [
       "Text(0.5, 1.0, 'Number of Unique Words in Reviews')"
      ]
     },
     "execution_count": 78,
     "metadata": {},
     "output_type": "execute_result"
    },
    {
     "data": {
      "image/png": "[encoded data removed]",
      "text/plain": [
       "<Figure size 432x288 with 1 Axes>"
      ]
     },
     "metadata": {
      "needs_background": "light"
     },
     "output_type": "display_data"
    }
   ],
   "source": [
    "pyplot.boxplot([Corpus_I_mots_uniques,Corpus_II_mots_uniques])\n",
    "pyplot.gca().xaxis.set_ticklabels([\"Corpus_I\", \"Corpus_II\"])\n",
    "pyplot.title('Number of Unique Words in Reviews')"
   ]
  },
  {
   "cell_type": "code",
   "execution_count": 79,
   "metadata": {},
   "outputs": [
    {
     "data": {
      "text/plain": [
       "Text(0.5, 1.0, 'Number of Unique Words in Reviews')"
      ]
     },
     "execution_count": 79,
     "metadata": {},
     "output_type": "execute_result"
    },
    {
     "data": {
      "image/png": "[encoded data removed]",
      "text/plain": [
       "<Figure size 432x288 with 1 Axes>"
      ]
     },
     "metadata": {
      "needs_background": "light"
     },
     "output_type": "display_data"
    }
   ],
   "source": [
    "pyplot.boxplot([Corpus_I_mots_uniques,Corpus_II_mots_uniques],showfliers=False)\n",
    "pyplot.gca().xaxis.set_ticklabels([\"Corpus_I\", \"Corpus_II\"])\n",
    "pyplot.title('Number of Unique Words in Reviews')"
   ]
  },
  {
   "cell_type": "code",
   "execution_count": 80,
   "metadata": {},
   "outputs": [
    {
     "data": {
      "text/plain": [
       "Text(0.5, 1.0, 'Number of Unique Words in Reviews (Excluding Stopwords)')"
      ]
     },
     "execution_count": 80,
     "metadata": {},
     "output_type": "execute_result"
    },
    {
     "data": {
      "image/png": "[encoded data removed]",
      "text/plain": [
       "<Figure size 432x288 with 1 Axes>"
      ]
     },
     "metadata": {
      "needs_background": "light"
     },
     "output_type": "display_data"
    }
   ],
   "source": [
    "pyplot.boxplot([Corpus_I_mots_uniques_nostop,Corpus_II_mots_uniques_nostop])\n",
    "pyplot.gca().xaxis.set_ticklabels([\"Corpus_I\", \"Corpus_II\"])\n",
    "pyplot.title('Number of Unique Words in Reviews (Excluding Stopwords)')"
   ]
  },
  {
   "cell_type": "code",
   "execution_count": 81,
   "metadata": {},
   "outputs": [
    {
     "data": {
      "text/plain": [
       "Text(0.5, 1.0, 'Number of Unique Words in Reviews (Excluding Stopwords)')"
      ]
     },
     "execution_count": 81,
     "metadata": {},
     "output_type": "execute_result"
    },
    {
     "data": {
      "image/png": "[encoded data removed]",
      "text/plain": [
       "<Figure size 432x288 with 1 Axes>"
      ]
     },
     "metadata": {
      "needs_background": "light"
     },
     "output_type": "display_data"
    }
   ],
   "source": [
    "pyplot.boxplot([Corpus_I_mots_uniques,Corpus_II_mots_uniques],showfliers=False)\n",
    "pyplot.gca().xaxis.set_ticklabels([\"Corpus_I\", \"Corpus_II\"])\n",
    "pyplot.title('Number of Unique Words in Reviews (Excluding Stopwords)')"
   ]
  },
  {
   "cell_type": "code",
   "execution_count": 82,
   "metadata": {},
   "outputs": [
    {
     "data": {
      "text/plain": [
       "Text(0.5, 1.0, 'Number of Unique Words / Number of Words')"
      ]
     },
     "execution_count": 82,
     "metadata": {},
     "output_type": "execute_result"
    },
    {
     "data": {
      "image/png": "[encoded data removed]",
      "text/plain": [
       "<Figure size 432x288 with 1 Axes>"
      ]
     },
     "metadata": {
      "needs_background": "light"
     },
     "output_type": "display_data"
    }
   ],
   "source": [
    "pyplot.boxplot([Corpus_I_ratio_unique,Corpus_II_ratio_unique])\n",
    "pyplot.gca().xaxis.set_ticklabels([\"Corpus_I\", \"Corpus_II\"])\n",
    "pyplot.title('Number of Unique Words / Number of Words')"
   ]
  },
  {
   "cell_type": "code",
   "execution_count": 83,
   "metadata": {},
   "outputs": [
    {
     "data": {
      "text/plain": [
       "Text(0.5, 1.0, 'Number of Unique Words / Number of Words')"
      ]
     },
     "execution_count": 83,
     "metadata": {},
     "output_type": "execute_result"
    },
    {
     "data": {
      "image/png": "[encoded data removed]",
      "text/plain": [
       "<Figure size 432x288 with 1 Axes>"
      ]
     },
     "metadata": {
      "needs_background": "light"
     },
     "output_type": "display_data"
    }
   ],
   "source": [
    "pyplot.boxplot([Corpus_I_ratio_unique,Corpus_II_ratio_unique],showfliers=False)\n",
    "pyplot.gca().xaxis.set_ticklabels([\"Corpus_I\", \"Corpus_II\"])\n",
    "pyplot.title('Number of Unique Words / Number of Words')"
   ]
  },
  {
   "cell_type": "code",
   "execution_count": 84,
   "metadata": {},
   "outputs": [
    {
     "data": {
      "text/plain": [
       "Text(0.5, 1.0, 'Number of Unique Words / Number of Words (Excluding Stopwords)')"
      ]
     },
     "execution_count": 84,
     "metadata": {},
     "output_type": "execute_result"
    },
    {
     "data": {
      "image/png": "[encoded data removed]",
      "text/plain": [
       "<Figure size 432x288 with 1 Axes>"
      ]
     },
     "metadata": {
      "needs_background": "light"
     },
     "output_type": "display_data"
    }
   ],
   "source": [
    "pyplot.boxplot([Corpus_I_ratio_unique_nostop,Corpus_II_ratio_unique_nostop])\n",
    "pyplot.gca().xaxis.set_ticklabels([\"Corpus_I\", \"Corpus_II\"])\n",
    "pyplot.title('Number of Unique Words / Number of Words (Excluding Stopwords)')"
   ]
  },
  {
   "cell_type": "code",
   "execution_count": 85,
   "metadata": {},
   "outputs": [
    {
     "data": {
      "text/plain": [
       "Text(0.5, 1.0, 'Number of Unique Words / Number of Words (Excluding Stopwords)')"
      ]
     },
     "execution_count": 85,
     "metadata": {},
     "output_type": "execute_result"
    },
    {
     "data": {
      "image/png": "[encoded data removed]",
      "text/plain": [
       "<Figure size 432x288 with 1 Axes>"
      ]
     },
     "metadata": {
      "needs_background": "light"
     },
     "output_type": "display_data"
    }
   ],
   "source": [
    "pyplot.boxplot([Corpus_I_ratio_unique_nostop,Corpus_II_ratio_unique_nostop],showfliers=False)\n",
    "pyplot.gca().xaxis.set_ticklabels([\"Corpus_I\", \"Corpus_II\"])\n",
    "pyplot.title('Number of Unique Words / Number of Words (Excluding Stopwords)')"
   ]
  },
  {
   "cell_type": "code",
   "execution_count": null,
   "metadata": {},
   "outputs": [],
   "source": []
  },
  {
   "cell_type": "code",
   "execution_count": null,
   "metadata": {},
   "outputs": [],
   "source": []
  }
 ],
 "metadata": {
  "kernelspec": {
   "display_name": "Python 3",
   "language": "python",
   "name": "python3"
  },
  "language_info": {
   "codemirror_mode": {
    "name": "ipython",
    "version": 3
   },
   "file_extension": ".py",
   "mimetype": "text/x-python",
   "name": "python",
   "nbconvert_exporter": "python",
   "pygments_lexer": "ipython3",
   "version": "3.7.6"
  }
 },
 "nbformat": 4,
 "nbformat_minor": 4
}
