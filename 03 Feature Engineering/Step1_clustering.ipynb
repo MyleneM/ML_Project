{
 "cells": [
  {
   "cell_type": "markdown",
   "metadata": {},
   "source": [
    "# Step1_clustering\n",
    "\n",
    "--------------------------------------\n",
    "The goal of this script is to record frequencies of themes across reviews "
   ]
  },
  {
   "cell_type": "markdown",
   "metadata": {},
   "source": [
    "## I) Load Libraries"
   ]
  },
  {
   "cell_type": "code",
   "execution_count": null,
   "metadata": {},
   "outputs": [],
   "source": [
    "import pandas as pd\n",
    "import numpy as np\n",
    "import random"
   ]
  },
  {
   "cell_type": "code",
   "execution_count": 2,
   "metadata": {},
   "outputs": [],
   "source": [
    "pd.set_option('display.max_columns', None)\n",
    "pd.set_option('display.max_rows', None)"
   ]
  },
  {
   "cell_type": "markdown",
   "metadata": {},
   "source": [
    "## II) Load Datasets"
   ]
  },
  {
   "cell_type": "code",
   "execution_count": 3,
   "metadata": {},
   "outputs": [
    {
     "data": {
      "text/html": [
       "<div>\n",
       "<style scoped>\n",
       "    .dataframe tbody tr th:only-of-type {\n",
       "        vertical-align: middle;\n",
       "    }\n",
       "\n",
       "    .dataframe tbody tr th {\n",
       "        vertical-align: top;\n",
       "    }\n",
       "\n",
       "    .dataframe thead th {\n",
       "        text-align: right;\n",
       "    }\n",
       "</style>\n",
       "<table border=\"1\" class=\"dataframe\">\n",
       "  <thead>\n",
       "    <tr style=\"text-align: right;\">\n",
       "      <th></th>\n",
       "      <th>Corpus</th>\n",
       "      <th>Newspaper / Blog</th>\n",
       "      <th>Date of Publication</th>\n",
       "      <th>Reviewer</th>\n",
       "      <th>Sex</th>\n",
       "      <th>Title of the Play</th>\n",
       "      <th>Playwright</th>\n",
       "      <th>Rating</th>\n",
       "      <th>Review</th>\n",
       "      <th>Theatre</th>\n",
       "    </tr>\n",
       "  </thead>\n",
       "  <tbody>\n",
       "    <tr>\n",
       "      <th>0</th>\n",
       "      <td>Corpus I (Journalism)</td>\n",
       "      <td>Guardian</td>\n",
       "      <td>07.01.2010</td>\n",
       "      <td>Michael Billington</td>\n",
       "      <td>Male</td>\n",
       "      <td>THE LADY OR THE TIGER</td>\n",
       "      <td>Michael Richmond</td>\n",
       "      <td>None</td>\n",
       "      <td>Sam Walters clearly has a soft spot for this t...</td>\n",
       "      <td>Orange Tree Theatre</td>\n",
       "    </tr>\n",
       "    <tr>\n",
       "      <th>1</th>\n",
       "      <td>Corpus I (Journalism)</td>\n",
       "      <td>Daily Telegraph</td>\n",
       "      <td>07.01.2010</td>\n",
       "      <td>Charles Spencer</td>\n",
       "      <td>Male</td>\n",
       "      <td>THE LADY OR THE TIGER</td>\n",
       "      <td>Michael Richmond</td>\n",
       "      <td>None</td>\n",
       "      <td>Unbelievably, The Lady or the Tiger is one of ...</td>\n",
       "      <td>Orange Tree Theatre</td>\n",
       "    </tr>\n",
       "    <tr>\n",
       "      <th>2</th>\n",
       "      <td>Corpus I (Journalism)</td>\n",
       "      <td>Financial Times</td>\n",
       "      <td>08.01.2010</td>\n",
       "      <td>Sarah Hemming</td>\n",
       "      <td>Female</td>\n",
       "      <td>THE LADY OR THE TIGER</td>\n",
       "      <td>Michael Richmond</td>\n",
       "      <td>None</td>\n",
       "      <td>Party political leaders in search of eye-catch...</td>\n",
       "      <td>Orange Tree Theatre</td>\n",
       "    </tr>\n",
       "  </tbody>\n",
       "</table>\n",
       "</div>"
      ],
      "text/plain": [
       "                Corpus   Newspaper / Blog Date of Publication  \\\n",
       "0  Corpus I (Journalism)         Guardian          07.01.2010   \n",
       "1  Corpus I (Journalism)  Daily Telegraph          07.01.2010   \n",
       "2  Corpus I (Journalism)  Financial Times          08.01.2010   \n",
       "\n",
       "             Reviewer     Sex       Title of the Play        Playwright  \\\n",
       "0  Michael Billington    Male  THE LADY OR THE TIGER   Michael Richmond   \n",
       "1     Charles Spencer    Male  THE LADY OR THE TIGER   Michael Richmond   \n",
       "2       Sarah Hemming  Female  THE LADY OR THE TIGER   Michael Richmond   \n",
       "\n",
       "  Rating                                             Review  \\\n",
       "0   None  Sam Walters clearly has a soft spot for this t...   \n",
       "1   None  Unbelievably, The Lady or the Tiger is one of ...   \n",
       "2   None  Party political leaders in search of eye-catch...   \n",
       "\n",
       "               Theatre  \n",
       "0  Orange Tree Theatre  \n",
       "1  Orange Tree Theatre  \n",
       "2  Orange Tree Theatre  "
      ]
     },
     "execution_count": 3,
     "metadata": {},
     "output_type": "execute_result"
    }
   ],
   "source": [
    "df_I = pd.read_excel(\"corpus_I.xlsx\")\n",
    "df_I.head(3)"
   ]
  },
  {
   "cell_type": "markdown",
   "metadata": {},
   "source": [
    "## III) Start Themes Clustering"
   ]
  },
  {
   "cell_type": "code",
   "execution_count": 4,
   "metadata": {},
   "outputs": [],
   "source": [
    "df_I[\"Women/Feminism\"] = 0\n",
    "df_I[\"LGBT / Queer / Sexuality / Gender\"] = 0\n",
    "df_I[\"Disabled\"] = 0\n",
    "df_I[\"Politics\"] = 0\n",
    "df_I[\"Supernatural\"] = 0\n",
    "df_I[\"Science\"] = 0\n",
    "df_I[\"Body\"] = 0\n",
    "df_I[\"Childhood\"] = 0\n",
    "df_I[\"Cultural difference / Race\"] = 0\n",
    "df_I[\"Death\"] = 0\n",
    "df_I[\"Education\"] = 0\n",
    "df_I[\"Family\"] = 0\n",
    "df_I[\"Environment\"] = 0\n",
    "df_I[\"Friendship\"] = 0\n",
    "df_I[\"Love\"] = 0\n",
    "df_I[\"Identity\"] = 0\n",
    "df_I[\"Memory\"] = 0\n",
    "df_I[\"Relationships\"] = 0\n",
    "df_I[\"Religion\"] = 0\n",
    "df_I[\"Violence\"] = 0"
   ]
  },
  {
   "cell_type": "code",
   "execution_count": 7,
   "metadata": {},
   "outputs": [],
   "source": [
    "list_feminism = [\"womanism\",\"feminism\",\"women\",\"feminist\",\"modernism\",\"daughter\",\"girl\",\"mother\",\"woman\"]\n",
    "list_woman_score = []\n",
    "for j in range(0,len(df_I[\"Women/Feminism\"])):\n",
    "    score = 0\n",
    "    for i in range(0,len(list_feminism)):\n",
    "        if list_feminism[i] in df_I[\"Review\"][j]:\n",
    "            score += 1\n",
    "    list_woman_score.append(score)\n",
    "df_I[\"Women/Feminism\"] = list_woman_score"
   ]
  },
  {
   "cell_type": "code",
   "execution_count": 8,
   "metadata": {},
   "outputs": [],
   "source": [
    "list_feminism = [\"lgbt\",\"queer\",\"sexuality\",\"gender\",\"lesbian\",\"gay\",\"bisexual\",\"transgender\",\"sensuality\",\"sexiness\",\"passion\",\"desire\",\"lust\",\"erotism\",\"feminity\",\"masculinity\",\"womanliness\",\"manliness\"]\n",
    "list_woman_score = []\n",
    "for j in range(0,len(df_I[\"LGBT / Queer / Sexuality / Gender\"])):\n",
    "    score = 0\n",
    "    for i in range(0,len(list_feminism)):\n",
    "        if list_feminism[i] in df_I[\"Review\"][j]:\n",
    "            score += 1\n",
    "    list_woman_score.append(score)\n",
    "df_I[\"LGBT / Queer / Sexuality / Gender\"] = list_woman_score"
   ]
  },
  {
   "cell_type": "code",
   "execution_count": 9,
   "metadata": {},
   "outputs": [],
   "source": [
    "list_feminism = [\"damage\",\"handicap\",\"impair\",\"disable\",\"disabled\",\"infirmed\",\"incapacitated\"]\n",
    "list_woman_score = []\n",
    "for j in range(0,len(df_I[\"Disabled\"])):\n",
    "    score = 0\n",
    "    for i in range(0,len(list_feminism)):\n",
    "        if list_feminism[i] in df_I[\"Review\"][j]:\n",
    "            score += 1\n",
    "    list_woman_score.append(score)\n",
    "df_I[\"Disabled\"] = list_woman_score"
   ]
  },
  {
   "cell_type": "code",
   "execution_count": 10,
   "metadata": {},
   "outputs": [],
   "source": [
    "list_feminism = [\"politics\",\"election\",\"government\",\"diplomatic\",\"tactical\",\"policy\",\"state\"]\n",
    "list_woman_score = []\n",
    "for j in range(0,len(df_I[\"Politics\"])):\n",
    "    score = 0\n",
    "    for i in range(0,len(list_feminism)):\n",
    "        if list_feminism[i] in df_I[\"Review\"][j]:\n",
    "            score += 1\n",
    "    list_woman_score.append(score)\n",
    "df_I[\"Politics\"] = list_woman_score"
   ]
  },
  {
   "cell_type": "code",
   "execution_count": 11,
   "metadata": {},
   "outputs": [],
   "source": [
    "list_feminism = [\"supernatural\",\"celestial\",\"fairy\",\"ghostly\",\"evenly\",\"paranormal\",\"phenomenal\",\"superhuman\",\"metaphysical\",\"phantom\",\"unknown\"]\n",
    "list_woman_score = []\n",
    "for j in range(0,len(df_I[\"Supernatural\"])):\n",
    "    score = 0\n",
    "    for i in range(0,len(list_feminism)):\n",
    "        if list_feminism[i] in df_I[\"Review\"][j]:\n",
    "            score += 1\n",
    "    list_woman_score.append(score)\n",
    "df_I[\"Supernatural\"] = list_woman_score"
   ]
  },
  {
   "cell_type": "code",
   "execution_count": 12,
   "metadata": {},
   "outputs": [],
   "source": [
    "list_feminism = [\"knowledge\",\"wisdom\",\"intelligence\",\"physics\",\"mathemtics\",\"knowledge\",\"erudition\",\"discipline\",\"science\"]\n",
    "list_woman_score = []\n",
    "for j in range(0,len(df_I[\"Science\"])):\n",
    "    score = 0\n",
    "    for i in range(0,len(list_feminism)):\n",
    "        if list_feminism[i] in df_I[\"Review\"][j]:\n",
    "            score += 1\n",
    "    list_woman_score.append(score)\n",
    "df_I[\"Science\"] = list_woman_score"
   ]
  },
  {
   "cell_type": "code",
   "execution_count": 13,
   "metadata": {},
   "outputs": [],
   "source": [
    "list_feminism = [\"body\",\"anatomy\",\"figure\",\"hand\",\"foot\",\"eye\",\"hear\",\"leg\",\"arm\",\"skeleton\",\"bones\",\"shape\",\"corpse\"]\n",
    "list_woman_score = []\n",
    "for j in range(0,len(df_I[\"Body\"])):\n",
    "    score = 0\n",
    "    for i in range(0,len(list_feminism)):\n",
    "        if list_feminism[i] in df_I[\"Review\"][j]:\n",
    "            score += 1\n",
    "    list_woman_score.append(score)\n",
    "df_I[\"Body\"] = list_woman_score"
   ]
  },
  {
   "cell_type": "code",
   "execution_count": 14,
   "metadata": {},
   "outputs": [],
   "source": [
    "list_feminism = [\"childhood\",\"infant\",\"youth\",\"infancy\",\"child\",\"baby\",\"newborn\",\"infant\",\"youngster\",\"toddler\"]\n",
    "list_woman_score = []\n",
    "for j in range(0,len(df_I[\"Childhood\"])):\n",
    "    score = 0\n",
    "    for i in range(0,len(list_feminism)):\n",
    "        if list_feminism[i] in df_I[\"Review\"][j]:\n",
    "            score += 1\n",
    "    list_woman_score.append(score)\n",
    "df_I[\"Childhood\"] = list_woman_score"
   ]
  },
  {
   "cell_type": "code",
   "execution_count": 15,
   "metadata": {},
   "outputs": [],
   "source": [
    "list_feminism = [\"cultural\",\"difference\",\"race\",\"diversity\",\"cross-culturalism\",\"multiculturalism\",\"ethnic\"]\n",
    "list_woman_score = []\n",
    "for j in range(0,len(df_I[\"Cultural difference / Race\"])):\n",
    "    score = 0\n",
    "    for i in range(0,len(list_feminism)):\n",
    "        if list_feminism[i] in df_I[\"Review\"][j]:\n",
    "            score += 1\n",
    "    list_woman_score.append(score)\n",
    "df_I[\"Cultural difference / Race\"] = list_woman_score"
   ]
  },
  {
   "cell_type": "code",
   "execution_count": 16,
   "metadata": {},
   "outputs": [],
   "source": [
    "list_feminism = [\"death\",\"demise\",\"dying\",\"end\",\"murder\",\"expiry\",\"passing\",\"assassination\",\"slaying\",\"slaughter\"]\n",
    "list_woman_score = []\n",
    "for j in range(0,len(df_I[\"Death\"])):\n",
    "    score = 0\n",
    "    for i in range(0,len(list_feminism)):\n",
    "        if list_feminism[i] in df_I[\"Review\"][j]:\n",
    "            score += 1\n",
    "    list_woman_score.append(score)\n",
    "df_I[\"Death\"] = list_woman_score"
   ]
  },
  {
   "cell_type": "code",
   "execution_count": 17,
   "metadata": {},
   "outputs": [],
   "source": [
    "list_feminism = [\"education\",\"teaching\",\"schooling\",\"tutor\",\"teach\",\"coaching\",\"learning\",\"knowledge\",\"scholar\"]\n",
    "list_woman_score = []\n",
    "for j in range(0,len(df_I[\"Education\"])):\n",
    "    score = 0\n",
    "    for i in range(0,len(list_feminism)):\n",
    "        if list_feminism[i] in df_I[\"Review\"][j]:\n",
    "            score += 1\n",
    "    list_woman_score.append(score)\n",
    "df_I[\"Education\"] = list_woman_score"
   ]
  },
  {
   "cell_type": "code",
   "execution_count": 18,
   "metadata": {},
   "outputs": [],
   "source": [
    "list_feminism = [\"household\",\"ménage\",\"kids\",\"father\",\"mother\",\"child\",\"birth\",\"ancestry\",\"clan\",\"tribe\",\"folk\",\"family\"]\n",
    "list_woman_score = []\n",
    "for j in range(0,len(df_I[\"Family\"])):\n",
    "    score = 0\n",
    "    for i in range(0,len(list_feminism)):\n",
    "        if list_feminism[i] in df_I[\"Review\"][j]:\n",
    "            score += 1\n",
    "    list_woman_score.append(score)\n",
    "df_I[\"Family\"] = list_woman_score"
   ]
  },
  {
   "cell_type": "code",
   "execution_count": 19,
   "metadata": {},
   "outputs": [],
   "source": [
    "list_feminism = [\"environment\",\"climate\",\"habitat\",\"surroundings\",\"ambiance\",\"conditions\"]\n",
    "list_woman_score = []\n",
    "for j in range(0,len(df_I[\"Environment\"])):\n",
    "    score = 0\n",
    "    for i in range(0,len(list_feminism)):\n",
    "        if list_feminism[i] in df_I[\"Review\"][j]:\n",
    "            score += 1\n",
    "    list_woman_score.append(score)\n",
    "df_I[\"Environment\"] = list_woman_score"
   ]
  },
  {
   "cell_type": "code",
   "execution_count": 20,
   "metadata": {},
   "outputs": [],
   "source": [
    "list_feminism = [\"friendship\",\"friend\",\"bond\",\"love\",\"intimacy\",\"devotion\",\"coalition\",\"association\"]\n",
    "list_woman_score = []\n",
    "for j in range(0,len(df_I[\"Friendship\"])):\n",
    "    score = 0\n",
    "    for i in range(0,len(list_feminism)):\n",
    "        if list_feminism[i] in df_I[\"Review\"][j]:\n",
    "            score += 1\n",
    "    list_woman_score.append(score)\n",
    "df_I[\"Friendship\"] = list_woman_score"
   ]
  },
  {
   "cell_type": "code",
   "execution_count": 21,
   "metadata": {},
   "outputs": [],
   "source": [
    "list_feminism = [\"love\",\"affection\",\"appreciation\",\"devotion\",\"emotion\",\"fondness\",\"friendship\",\"lust\",\"passion\"]\n",
    "list_woman_score = []\n",
    "for j in range(0,len(df_I[\"Love\"])):\n",
    "    score = 0\n",
    "    for i in range(0,len(list_feminism)):\n",
    "        if list_feminism[i] in df_I[\"Review\"][j]:\n",
    "            score += 1\n",
    "    list_woman_score.append(score)\n",
    "df_I[\"Love\"] = list_woman_score"
   ]
  },
  {
   "cell_type": "code",
   "execution_count": 22,
   "metadata": {},
   "outputs": [],
   "source": [
    "list_feminism = [\"identity\",\"character\",\"existence\",\"identification\",\"integrity\",\"name\",\"personality\",\"status\"]\n",
    "list_woman_score = []\n",
    "for j in range(0,len(df_I[\"Identity\"])):\n",
    "    score = 0\n",
    "    for i in range(0,len(list_feminism)):\n",
    "        if list_feminism[i] in df_I[\"Review\"][j]:\n",
    "            score += 1\n",
    "    list_woman_score.append(score)\n",
    "df_I[\"Identity\"] = list_woman_score"
   ]
  },
  {
   "cell_type": "code",
   "execution_count": 23,
   "metadata": {},
   "outputs": [],
   "source": [
    "list_feminism = [\"memory\",\"consciousness\",\"mind\",\"recollection\",\"remembrance\",\"thought\",\"awareness\"]\n",
    "list_woman_score = []\n",
    "for j in range(0,len(df_I[\"Memory\"])):\n",
    "    score = 0\n",
    "    for i in range(0,len(list_feminism)):\n",
    "        if list_feminism[i] in df_I[\"Review\"][j]:\n",
    "            score += 1\n",
    "    list_woman_score.append(score)\n",
    "df_I[\"Memory\"] = list_woman_score"
   ]
  },
  {
   "cell_type": "code",
   "execution_count": 24,
   "metadata": {},
   "outputs": [],
   "source": [
    "list_feminism = [\"relationship\",\"mariage\",\"link\",\"exchange\",\"liaison\",\"rapport\",\"relation\"]\n",
    "list_woman_score = []\n",
    "for j in range(0,len(df_I[\"Relationships\"])):\n",
    "    score = 0\n",
    "    for i in range(0,len(list_feminism)):\n",
    "        if list_feminism[i] in df_I[\"Review\"][j]:\n",
    "            score += 1\n",
    "    list_woman_score.append(score)\n",
    "df_I[\"Relationships\"] = list_woman_score"
   ]
  },
  {
   "cell_type": "code",
   "execution_count": 25,
   "metadata": {},
   "outputs": [],
   "source": [
    "list_feminism = [\"religion\",\"church\",\"creed\",\"cult\",\"denomination\",\"doctrine\",\"morality\",\"ritual\",\"sect\"]\n",
    "list_woman_score = []\n",
    "for j in range(0,len(df_I[\"Religion\"])):\n",
    "    score = 0\n",
    "    for i in range(0,len(list_feminism)):\n",
    "        if list_feminism[i] in df_I[\"Review\"][j]:\n",
    "            score += 1\n",
    "    list_woman_score.append(score)\n",
    "df_I[\"Religion\"] = list_woman_score"
   ]
  },
  {
   "cell_type": "code",
   "execution_count": 26,
   "metadata": {},
   "outputs": [],
   "source": [
    "list_feminism = [\"assault\",\"attack\",\"brutality\",\"clash\",\"cruelty\",\"fight\",\"ferocity\",\"harsh\"]\n",
    "list_woman_score = []\n",
    "for j in range(0,len(df_I[\"Violence\"])):\n",
    "    score = 0\n",
    "    for i in range(0,len(list_feminism)):\n",
    "        if list_feminism[i] in df_I[\"Review\"][j]:\n",
    "            score += 1\n",
    "    list_woman_score.append(score)\n",
    "df_I[\"Violence\"] = list_woman_score"
   ]
  },
  {
   "cell_type": "code",
   "execution_count": 27,
   "metadata": {},
   "outputs": [
    {
     "data": {
      "text/html": [
       "<div>\n",
       "<style scoped>\n",
       "    .dataframe tbody tr th:only-of-type {\n",
       "        vertical-align: middle;\n",
       "    }\n",
       "\n",
       "    .dataframe tbody tr th {\n",
       "        vertical-align: top;\n",
       "    }\n",
       "\n",
       "    .dataframe thead th {\n",
       "        text-align: right;\n",
       "    }\n",
       "</style>\n",
       "<table border=\"1\" class=\"dataframe\">\n",
       "  <thead>\n",
       "    <tr style=\"text-align: right;\">\n",
       "      <th></th>\n",
       "      <th>Corpus</th>\n",
       "      <th>Newspaper / Blog</th>\n",
       "      <th>Date of Publication</th>\n",
       "      <th>Reviewer</th>\n",
       "      <th>Sex</th>\n",
       "      <th>Title of the Play</th>\n",
       "      <th>Playwright</th>\n",
       "      <th>Rating</th>\n",
       "      <th>Review</th>\n",
       "      <th>Theatre</th>\n",
       "      <th>Women/Feminism</th>\n",
       "      <th>LGBT / Queer / Sexuality / Gender</th>\n",
       "      <th>Disabled</th>\n",
       "      <th>Politics</th>\n",
       "      <th>Supernatural</th>\n",
       "      <th>Science</th>\n",
       "      <th>Body</th>\n",
       "      <th>Childhood</th>\n",
       "      <th>Cultural difference / Race</th>\n",
       "      <th>Death</th>\n",
       "      <th>Education</th>\n",
       "      <th>Family</th>\n",
       "      <th>Environment</th>\n",
       "      <th>Friendship</th>\n",
       "      <th>Love</th>\n",
       "      <th>Identity</th>\n",
       "      <th>Memory</th>\n",
       "      <th>Relationships</th>\n",
       "      <th>Religion</th>\n",
       "      <th>Violence</th>\n",
       "    </tr>\n",
       "  </thead>\n",
       "  <tbody>\n",
       "    <tr>\n",
       "      <th>0</th>\n",
       "      <td>Corpus I (Journalism)</td>\n",
       "      <td>Guardian</td>\n",
       "      <td>07.01.2010</td>\n",
       "      <td>Michael Billington</td>\n",
       "      <td>Male</td>\n",
       "      <td>THE LADY OR THE TIGER</td>\n",
       "      <td>Michael Richmond</td>\n",
       "      <td>None</td>\n",
       "      <td>Sam Walters clearly has a soft spot for this t...</td>\n",
       "      <td>Orange Tree Theatre</td>\n",
       "      <td>2</td>\n",
       "      <td>1</td>\n",
       "      <td>0</td>\n",
       "      <td>1</td>\n",
       "      <td>1</td>\n",
       "      <td>0</td>\n",
       "      <td>0</td>\n",
       "      <td>1</td>\n",
       "      <td>0</td>\n",
       "      <td>1</td>\n",
       "      <td>0</td>\n",
       "      <td>1</td>\n",
       "      <td>0</td>\n",
       "      <td>2</td>\n",
       "      <td>2</td>\n",
       "      <td>0</td>\n",
       "      <td>0</td>\n",
       "      <td>0</td>\n",
       "      <td>0</td>\n",
       "      <td>0</td>\n",
       "    </tr>\n",
       "    <tr>\n",
       "      <th>1</th>\n",
       "      <td>Corpus I (Journalism)</td>\n",
       "      <td>Daily Telegraph</td>\n",
       "      <td>07.01.2010</td>\n",
       "      <td>Charles Spencer</td>\n",
       "      <td>Male</td>\n",
       "      <td>THE LADY OR THE TIGER</td>\n",
       "      <td>Michael Richmond</td>\n",
       "      <td>None</td>\n",
       "      <td>Unbelievably, The Lady or the Tiger is one of ...</td>\n",
       "      <td>Orange Tree Theatre</td>\n",
       "      <td>2</td>\n",
       "      <td>1</td>\n",
       "      <td>0</td>\n",
       "      <td>0</td>\n",
       "      <td>0</td>\n",
       "      <td>0</td>\n",
       "      <td>1</td>\n",
       "      <td>3</td>\n",
       "      <td>1</td>\n",
       "      <td>2</td>\n",
       "      <td>0</td>\n",
       "      <td>1</td>\n",
       "      <td>0</td>\n",
       "      <td>1</td>\n",
       "      <td>1</td>\n",
       "      <td>0</td>\n",
       "      <td>0</td>\n",
       "      <td>0</td>\n",
       "      <td>0</td>\n",
       "      <td>0</td>\n",
       "    </tr>\n",
       "    <tr>\n",
       "      <th>2</th>\n",
       "      <td>Corpus I (Journalism)</td>\n",
       "      <td>Financial Times</td>\n",
       "      <td>08.01.2010</td>\n",
       "      <td>Sarah Hemming</td>\n",
       "      <td>Female</td>\n",
       "      <td>THE LADY OR THE TIGER</td>\n",
       "      <td>Michael Richmond</td>\n",
       "      <td>None</td>\n",
       "      <td>Party political leaders in search of eye-catch...</td>\n",
       "      <td>Orange Tree Theatre</td>\n",
       "      <td>1</td>\n",
       "      <td>0</td>\n",
       "      <td>0</td>\n",
       "      <td>1</td>\n",
       "      <td>1</td>\n",
       "      <td>0</td>\n",
       "      <td>3</td>\n",
       "      <td>0</td>\n",
       "      <td>0</td>\n",
       "      <td>1</td>\n",
       "      <td>1</td>\n",
       "      <td>0</td>\n",
       "      <td>0</td>\n",
       "      <td>0</td>\n",
       "      <td>0</td>\n",
       "      <td>0</td>\n",
       "      <td>0</td>\n",
       "      <td>0</td>\n",
       "      <td>0</td>\n",
       "      <td>0</td>\n",
       "    </tr>\n",
       "  </tbody>\n",
       "</table>\n",
       "</div>"
      ],
      "text/plain": [
       "                Corpus   Newspaper / Blog Date of Publication  \\\n",
       "0  Corpus I (Journalism)         Guardian          07.01.2010   \n",
       "1  Corpus I (Journalism)  Daily Telegraph          07.01.2010   \n",
       "2  Corpus I (Journalism)  Financial Times          08.01.2010   \n",
       "\n",
       "             Reviewer     Sex       Title of the Play        Playwright  \\\n",
       "0  Michael Billington    Male  THE LADY OR THE TIGER   Michael Richmond   \n",
       "1     Charles Spencer    Male  THE LADY OR THE TIGER   Michael Richmond   \n",
       "2       Sarah Hemming  Female  THE LADY OR THE TIGER   Michael Richmond   \n",
       "\n",
       "  Rating                                             Review  \\\n",
       "0   None  Sam Walters clearly has a soft spot for this t...   \n",
       "1   None  Unbelievably, The Lady or the Tiger is one of ...   \n",
       "2   None  Party political leaders in search of eye-catch...   \n",
       "\n",
       "               Theatre  Women/Feminism  LGBT / Queer / Sexuality / Gender  \\\n",
       "0  Orange Tree Theatre               2                                  1   \n",
       "1  Orange Tree Theatre               2                                  1   \n",
       "2  Orange Tree Theatre               1                                  0   \n",
       "\n",
       "   Disabled  Politics  Supernatural  Science  Body  Childhood  \\\n",
       "0         0         1             1        0     0          1   \n",
       "1         0         0             0        0     1          3   \n",
       "2         0         1             1        0     3          0   \n",
       "\n",
       "   Cultural difference / Race  Death  Education  Family  Environment  \\\n",
       "0                           0      1          0       1            0   \n",
       "1                           1      2          0       1            0   \n",
       "2                           0      1          1       0            0   \n",
       "\n",
       "   Friendship  Love  Identity  Memory  Relationships  Religion  Violence  \n",
       "0           2     2         0       0              0         0         0  \n",
       "1           1     1         0       0              0         0         0  \n",
       "2           0     0         0       0              0         0         0  "
      ]
     },
     "execution_count": 27,
     "metadata": {},
     "output_type": "execute_result"
    }
   ],
   "source": [
    "df_I.head(3)"
   ]
  },
  {
   "cell_type": "code",
   "execution_count": 30,
   "metadata": {},
   "outputs": [],
   "source": [
    "df_I.to_excel(\"test2_clustering.xlsx\")"
   ]
  },
  {
   "cell_type": "code",
   "execution_count": 28,
   "metadata": {},
   "outputs": [],
   "source": [
    "df_I.to_excel(\"corpus_I_clustering.xlsx\",index=False)"
   ]
  },
  {
   "cell_type": "markdown",
   "metadata": {},
   "source": [
    "### Great Job ✅"
   ]
  }
 ],
 "metadata": {
  "kernelspec": {
   "display_name": "Python 3",
   "language": "python",
   "name": "python3"
  },
  "language_info": {
   "codemirror_mode": {
    "name": "ipython",
    "version": 3
   },
   "file_extension": ".py",
   "mimetype": "text/x-python",
   "name": "python",
   "nbconvert_exporter": "python",
   "pygments_lexer": "ipython3",
   "version": "3.7.6"
  }
 },
 "nbformat": 4,
 "nbformat_minor": 4
}
